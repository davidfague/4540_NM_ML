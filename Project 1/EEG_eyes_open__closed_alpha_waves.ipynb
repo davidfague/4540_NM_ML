{
  "cells": [
    {
      "cell_type": "markdown",
      "metadata": {
        "id": "view-in-github",
        "colab_type": "text"
      },
      "source": [
        "<a href=\"https://colab.research.google.com/github/davidfague/4540_NM_ML/blob/main/EEG_eyes_open__closed_alpha_waves.ipynb\" target=\"_parent\"><img src=\"https://colab.research.google.com/assets/colab-badge.svg\" alt=\"Open In Colab\"/></a>"
      ]
    },
    {
      "cell_type": "markdown",
      "source": [
        "[What is EEG and time-frequency analysis?](https://youtu.be/FIqvTUOGFOE?si=5hFMbAp3RpghlKoM)\n",
        "\n"
      ],
      "metadata": {
        "id": "dj9-a-fZfaic"
      }
    },
    {
      "cell_type": "markdown",
      "source": [
        "[How to make predictions based on EEG?](https://youtu.be/SKIaW5YvF6Y?si=R5AlNCTIsh3AjNkn)"
      ],
      "metadata": {
        "id": "LeqUPLGThph7"
      }
    },
    {
      "cell_type": "code",
      "execution_count": 1,
      "metadata": {
        "id": "aXUs20D0tXIe"
      },
      "outputs": [],
      "source": [
        "# This Python 3 environment comes with many helpful analytics libraries installed\n",
        "# It is defined by the kaggle/python docker image: https://github.com/kaggle/docker-python\n",
        "# For example, here's several helpful packages to load in\n",
        "\n",
        "import numpy as np # linear algebra\n",
        "import pandas as pd # data processing, CSV file I/O (e.g. pd.read_csv)\n",
        "import matplotlib.pyplot as plt\n",
        "import tensorflow as tf\n",
        "from tensorflow.keras.models import Sequential, Model\n",
        "from tensorflow.keras.layers import Dense, Input\n",
        "from tensorflow.keras.layers import Flatten\n",
        "from tensorflow.keras.layers import Dropout\n",
        "from tensorflow.keras.layers import Conv1D, Conv2D\n",
        "from tensorflow.keras.layers import MaxPooling1D, MaxPooling2D\n",
        "from tensorflow.keras.utils import to_categorical\n",
        "from sklearn.model_selection import train_test_split\n",
        "from keras.callbacks import EarlyStopping\n",
        "import scipy.signal as ss\n",
        "\n",
        "# Input data files are available in the \"../input/\" directory.\n",
        "# For example, running this (by clicking run or pressing Shift+Enter) will list all files under the input directory\n",
        "\n",
        "import os\n",
        "for dirname, _, filenames in os.walk('/kaggle/input'):\n",
        "    for filename in filenames:\n",
        "        print(os.path.join(dirname, filename))\n",
        "\n",
        "# Any results you write to the current directory are saved as output."
      ]
    },
    {
      "cell_type": "markdown",
      "metadata": {
        "id": "BVWJz7_GtXIm"
      },
      "source": [
        "# Welcome\n",
        "This notebook will walk you through how to analyse brain wave data. This data was collected in the Neural Engineering Laboratory at the University of Missouri - Columbia."
      ]
    },
    {
      "cell_type": "code",
      "source": [
        "# clone github repo with the data\n",
        "!git clone https://github.com/davidfague/4540_NM_ML.git"
      ],
      "metadata": {
        "id": "FoqM6g_NavRU",
        "outputId": "69c94ab0-9b16-4d3d-c7c6-d19337ecb5ab",
        "colab": {
          "base_uri": "https://localhost:8080/"
        }
      },
      "execution_count": 3,
      "outputs": [
        {
          "output_type": "stream",
          "name": "stdout",
          "text": [
            "Cloning into '4540_NM_ML'...\n",
            "remote: Enumerating objects: 39, done.\u001b[K\n",
            "remote: Counting objects: 100% (39/39), done.\u001b[K\n",
            "remote: Compressing objects: 100% (36/36), done.\u001b[K\n",
            "remote: Total 39 (delta 18), reused 0 (delta 0), pack-reused 0\u001b[K\n",
            "Receiving objects: 100% (39/39), 2.71 MiB | 3.38 MiB/s, done.\n",
            "Resolving deltas: 100% (18/18), done.\n"
          ]
        }
      ]
    },
    {
      "cell_type": "code",
      "source": [
        "# read the data into pandas dataframe\n",
        "df = pd.read_csv('4540_NM_ML/OpenBCI-RAW-2020-03-10_08-53-44.txt',skiprows=6,header=None)"
      ],
      "metadata": {
        "id": "L115hIJMbi1F"
      },
      "execution_count": 4,
      "outputs": []
    },
    {
      "cell_type": "code",
      "execution_count": 5,
      "metadata": {
        "colab": {
          "base_uri": "https://localhost:8080/",
          "height": 206
        },
        "id": "0eHKReMgtXI0",
        "outputId": "d0b7504c-a9c7-4d66-92dd-9a136bef1b58"
      },
      "outputs": [
        {
          "output_type": "execute_result",
          "data": {
            "text/plain": [
              "   0      1      2      3      4      5      6      7              8  \\\n",
              "0  0 -76.20   1.38 -34.35 -51.09  0.912  0.112 -0.464   08:54:30.263   \n",
              "1  1 -36.12  29.01  76.34  48.51  0.912  0.112 -0.464   08:54:30.263   \n",
              "2  2 -43.59  31.42  58.11  30.55  0.912  0.112 -0.464   08:54:30.263   \n",
              "3  3 -77.29   2.68 -19.45 -49.45  0.912  0.112 -0.464   08:54:30.274   \n",
              "4  4 -57.05  17.48  52.08  23.03  0.912  0.112 -0.464   08:54:30.274   \n",
              "\n",
              "              9  \n",
              "0  1.583848e+12  \n",
              "1  1.583848e+12  \n",
              "2  1.583848e+12  \n",
              "3  1.583848e+12  \n",
              "4  1.583848e+12  "
            ],
            "text/html": [
              "\n",
              "  <div id=\"df-15d3934a-2d6a-4953-a33e-7ec8bd07949a\" class=\"colab-df-container\">\n",
              "    <div>\n",
              "<style scoped>\n",
              "    .dataframe tbody tr th:only-of-type {\n",
              "        vertical-align: middle;\n",
              "    }\n",
              "\n",
              "    .dataframe tbody tr th {\n",
              "        vertical-align: top;\n",
              "    }\n",
              "\n",
              "    .dataframe thead th {\n",
              "        text-align: right;\n",
              "    }\n",
              "</style>\n",
              "<table border=\"1\" class=\"dataframe\">\n",
              "  <thead>\n",
              "    <tr style=\"text-align: right;\">\n",
              "      <th></th>\n",
              "      <th>0</th>\n",
              "      <th>1</th>\n",
              "      <th>2</th>\n",
              "      <th>3</th>\n",
              "      <th>4</th>\n",
              "      <th>5</th>\n",
              "      <th>6</th>\n",
              "      <th>7</th>\n",
              "      <th>8</th>\n",
              "      <th>9</th>\n",
              "    </tr>\n",
              "  </thead>\n",
              "  <tbody>\n",
              "    <tr>\n",
              "      <th>0</th>\n",
              "      <td>0</td>\n",
              "      <td>-76.20</td>\n",
              "      <td>1.38</td>\n",
              "      <td>-34.35</td>\n",
              "      <td>-51.09</td>\n",
              "      <td>0.912</td>\n",
              "      <td>0.112</td>\n",
              "      <td>-0.464</td>\n",
              "      <td>08:54:30.263</td>\n",
              "      <td>1.583848e+12</td>\n",
              "    </tr>\n",
              "    <tr>\n",
              "      <th>1</th>\n",
              "      <td>1</td>\n",
              "      <td>-36.12</td>\n",
              "      <td>29.01</td>\n",
              "      <td>76.34</td>\n",
              "      <td>48.51</td>\n",
              "      <td>0.912</td>\n",
              "      <td>0.112</td>\n",
              "      <td>-0.464</td>\n",
              "      <td>08:54:30.263</td>\n",
              "      <td>1.583848e+12</td>\n",
              "    </tr>\n",
              "    <tr>\n",
              "      <th>2</th>\n",
              "      <td>2</td>\n",
              "      <td>-43.59</td>\n",
              "      <td>31.42</td>\n",
              "      <td>58.11</td>\n",
              "      <td>30.55</td>\n",
              "      <td>0.912</td>\n",
              "      <td>0.112</td>\n",
              "      <td>-0.464</td>\n",
              "      <td>08:54:30.263</td>\n",
              "      <td>1.583848e+12</td>\n",
              "    </tr>\n",
              "    <tr>\n",
              "      <th>3</th>\n",
              "      <td>3</td>\n",
              "      <td>-77.29</td>\n",
              "      <td>2.68</td>\n",
              "      <td>-19.45</td>\n",
              "      <td>-49.45</td>\n",
              "      <td>0.912</td>\n",
              "      <td>0.112</td>\n",
              "      <td>-0.464</td>\n",
              "      <td>08:54:30.274</td>\n",
              "      <td>1.583848e+12</td>\n",
              "    </tr>\n",
              "    <tr>\n",
              "      <th>4</th>\n",
              "      <td>4</td>\n",
              "      <td>-57.05</td>\n",
              "      <td>17.48</td>\n",
              "      <td>52.08</td>\n",
              "      <td>23.03</td>\n",
              "      <td>0.912</td>\n",
              "      <td>0.112</td>\n",
              "      <td>-0.464</td>\n",
              "      <td>08:54:30.274</td>\n",
              "      <td>1.583848e+12</td>\n",
              "    </tr>\n",
              "  </tbody>\n",
              "</table>\n",
              "</div>\n",
              "    <div class=\"colab-df-buttons\">\n",
              "\n",
              "  <div class=\"colab-df-container\">\n",
              "    <button class=\"colab-df-convert\" onclick=\"convertToInteractive('df-15d3934a-2d6a-4953-a33e-7ec8bd07949a')\"\n",
              "            title=\"Convert this dataframe to an interactive table.\"\n",
              "            style=\"display:none;\">\n",
              "\n",
              "  <svg xmlns=\"http://www.w3.org/2000/svg\" height=\"24px\" viewBox=\"0 -960 960 960\">\n",
              "    <path d=\"M120-120v-720h720v720H120Zm60-500h600v-160H180v160Zm220 220h160v-160H400v160Zm0 220h160v-160H400v160ZM180-400h160v-160H180v160Zm440 0h160v-160H620v160ZM180-180h160v-160H180v160Zm440 0h160v-160H620v160Z\"/>\n",
              "  </svg>\n",
              "    </button>\n",
              "\n",
              "  <style>\n",
              "    .colab-df-container {\n",
              "      display:flex;\n",
              "      gap: 12px;\n",
              "    }\n",
              "\n",
              "    .colab-df-convert {\n",
              "      background-color: #E8F0FE;\n",
              "      border: none;\n",
              "      border-radius: 50%;\n",
              "      cursor: pointer;\n",
              "      display: none;\n",
              "      fill: #1967D2;\n",
              "      height: 32px;\n",
              "      padding: 0 0 0 0;\n",
              "      width: 32px;\n",
              "    }\n",
              "\n",
              "    .colab-df-convert:hover {\n",
              "      background-color: #E2EBFA;\n",
              "      box-shadow: 0px 1px 2px rgba(60, 64, 67, 0.3), 0px 1px 3px 1px rgba(60, 64, 67, 0.15);\n",
              "      fill: #174EA6;\n",
              "    }\n",
              "\n",
              "    .colab-df-buttons div {\n",
              "      margin-bottom: 4px;\n",
              "    }\n",
              "\n",
              "    [theme=dark] .colab-df-convert {\n",
              "      background-color: #3B4455;\n",
              "      fill: #D2E3FC;\n",
              "    }\n",
              "\n",
              "    [theme=dark] .colab-df-convert:hover {\n",
              "      background-color: #434B5C;\n",
              "      box-shadow: 0px 1px 3px 1px rgba(0, 0, 0, 0.15);\n",
              "      filter: drop-shadow(0px 1px 2px rgba(0, 0, 0, 0.3));\n",
              "      fill: #FFFFFF;\n",
              "    }\n",
              "  </style>\n",
              "\n",
              "    <script>\n",
              "      const buttonEl =\n",
              "        document.querySelector('#df-15d3934a-2d6a-4953-a33e-7ec8bd07949a button.colab-df-convert');\n",
              "      buttonEl.style.display =\n",
              "        google.colab.kernel.accessAllowed ? 'block' : 'none';\n",
              "\n",
              "      async function convertToInteractive(key) {\n",
              "        const element = document.querySelector('#df-15d3934a-2d6a-4953-a33e-7ec8bd07949a');\n",
              "        const dataTable =\n",
              "          await google.colab.kernel.invokeFunction('convertToInteractive',\n",
              "                                                    [key], {});\n",
              "        if (!dataTable) return;\n",
              "\n",
              "        const docLinkHtml = 'Like what you see? Visit the ' +\n",
              "          '<a target=\"_blank\" href=https://colab.research.google.com/notebooks/data_table.ipynb>data table notebook</a>'\n",
              "          + ' to learn more about interactive tables.';\n",
              "        element.innerHTML = '';\n",
              "        dataTable['output_type'] = 'display_data';\n",
              "        await google.colab.output.renderOutput(dataTable, element);\n",
              "        const docLink = document.createElement('div');\n",
              "        docLink.innerHTML = docLinkHtml;\n",
              "        element.appendChild(docLink);\n",
              "      }\n",
              "    </script>\n",
              "  </div>\n",
              "\n",
              "\n",
              "<div id=\"df-c678d6e3-44af-4041-ab5b-163a24a2848a\">\n",
              "  <button class=\"colab-df-quickchart\" onclick=\"quickchart('df-c678d6e3-44af-4041-ab5b-163a24a2848a')\"\n",
              "            title=\"Suggest charts\"\n",
              "            style=\"display:none;\">\n",
              "\n",
              "<svg xmlns=\"http://www.w3.org/2000/svg\" height=\"24px\"viewBox=\"0 0 24 24\"\n",
              "     width=\"24px\">\n",
              "    <g>\n",
              "        <path d=\"M19 3H5c-1.1 0-2 .9-2 2v14c0 1.1.9 2 2 2h14c1.1 0 2-.9 2-2V5c0-1.1-.9-2-2-2zM9 17H7v-7h2v7zm4 0h-2V7h2v10zm4 0h-2v-4h2v4z\"/>\n",
              "    </g>\n",
              "</svg>\n",
              "  </button>\n",
              "\n",
              "<style>\n",
              "  .colab-df-quickchart {\n",
              "      --bg-color: #E8F0FE;\n",
              "      --fill-color: #1967D2;\n",
              "      --hover-bg-color: #E2EBFA;\n",
              "      --hover-fill-color: #174EA6;\n",
              "      --disabled-fill-color: #AAA;\n",
              "      --disabled-bg-color: #DDD;\n",
              "  }\n",
              "\n",
              "  [theme=dark] .colab-df-quickchart {\n",
              "      --bg-color: #3B4455;\n",
              "      --fill-color: #D2E3FC;\n",
              "      --hover-bg-color: #434B5C;\n",
              "      --hover-fill-color: #FFFFFF;\n",
              "      --disabled-bg-color: #3B4455;\n",
              "      --disabled-fill-color: #666;\n",
              "  }\n",
              "\n",
              "  .colab-df-quickchart {\n",
              "    background-color: var(--bg-color);\n",
              "    border: none;\n",
              "    border-radius: 50%;\n",
              "    cursor: pointer;\n",
              "    display: none;\n",
              "    fill: var(--fill-color);\n",
              "    height: 32px;\n",
              "    padding: 0;\n",
              "    width: 32px;\n",
              "  }\n",
              "\n",
              "  .colab-df-quickchart:hover {\n",
              "    background-color: var(--hover-bg-color);\n",
              "    box-shadow: 0 1px 2px rgba(60, 64, 67, 0.3), 0 1px 3px 1px rgba(60, 64, 67, 0.15);\n",
              "    fill: var(--button-hover-fill-color);\n",
              "  }\n",
              "\n",
              "  .colab-df-quickchart-complete:disabled,\n",
              "  .colab-df-quickchart-complete:disabled:hover {\n",
              "    background-color: var(--disabled-bg-color);\n",
              "    fill: var(--disabled-fill-color);\n",
              "    box-shadow: none;\n",
              "  }\n",
              "\n",
              "  .colab-df-spinner {\n",
              "    border: 2px solid var(--fill-color);\n",
              "    border-color: transparent;\n",
              "    border-bottom-color: var(--fill-color);\n",
              "    animation:\n",
              "      spin 1s steps(1) infinite;\n",
              "  }\n",
              "\n",
              "  @keyframes spin {\n",
              "    0% {\n",
              "      border-color: transparent;\n",
              "      border-bottom-color: var(--fill-color);\n",
              "      border-left-color: var(--fill-color);\n",
              "    }\n",
              "    20% {\n",
              "      border-color: transparent;\n",
              "      border-left-color: var(--fill-color);\n",
              "      border-top-color: var(--fill-color);\n",
              "    }\n",
              "    30% {\n",
              "      border-color: transparent;\n",
              "      border-left-color: var(--fill-color);\n",
              "      border-top-color: var(--fill-color);\n",
              "      border-right-color: var(--fill-color);\n",
              "    }\n",
              "    40% {\n",
              "      border-color: transparent;\n",
              "      border-right-color: var(--fill-color);\n",
              "      border-top-color: var(--fill-color);\n",
              "    }\n",
              "    60% {\n",
              "      border-color: transparent;\n",
              "      border-right-color: var(--fill-color);\n",
              "    }\n",
              "    80% {\n",
              "      border-color: transparent;\n",
              "      border-right-color: var(--fill-color);\n",
              "      border-bottom-color: var(--fill-color);\n",
              "    }\n",
              "    90% {\n",
              "      border-color: transparent;\n",
              "      border-bottom-color: var(--fill-color);\n",
              "    }\n",
              "  }\n",
              "</style>\n",
              "\n",
              "  <script>\n",
              "    async function quickchart(key) {\n",
              "      const quickchartButtonEl =\n",
              "        document.querySelector('#' + key + ' button');\n",
              "      quickchartButtonEl.disabled = true;  // To prevent multiple clicks.\n",
              "      quickchartButtonEl.classList.add('colab-df-spinner');\n",
              "      try {\n",
              "        const charts = await google.colab.kernel.invokeFunction(\n",
              "            'suggestCharts', [key], {});\n",
              "      } catch (error) {\n",
              "        console.error('Error during call to suggestCharts:', error);\n",
              "      }\n",
              "      quickchartButtonEl.classList.remove('colab-df-spinner');\n",
              "      quickchartButtonEl.classList.add('colab-df-quickchart-complete');\n",
              "    }\n",
              "    (() => {\n",
              "      let quickchartButtonEl =\n",
              "        document.querySelector('#df-c678d6e3-44af-4041-ab5b-163a24a2848a button');\n",
              "      quickchartButtonEl.style.display =\n",
              "        google.colab.kernel.accessAllowed ? 'block' : 'none';\n",
              "    })();\n",
              "  </script>\n",
              "</div>\n",
              "\n",
              "    </div>\n",
              "  </div>\n"
            ]
          },
          "metadata": {},
          "execution_count": 5
        }
      ],
      "source": [
        "df.head()"
      ]
    },
    {
      "cell_type": "code",
      "execution_count": 6,
      "metadata": {
        "id": "kbXt_2WNtXI2"
      },
      "outputs": [],
      "source": [
        "df.columns=['index','channel1','channel2','channel3','channel4','acc1','acc2','acc3','time_std','timestamp']\n",
        "df.drop(['index'],axis=1,inplace=True)"
      ]
    },
    {
      "cell_type": "code",
      "execution_count": 7,
      "metadata": {
        "colab": {
          "base_uri": "https://localhost:8080/",
          "height": 206
        },
        "id": "xu2s6zlutXI3",
        "outputId": "7aa1fbb2-21d9-408c-e629-d23e17f53e4c"
      },
      "outputs": [
        {
          "output_type": "execute_result",
          "data": {
            "text/plain": [
              "   channel1  channel2  channel3  channel4   acc1   acc2   acc3       time_std  \\\n",
              "0    -76.20      1.38    -34.35    -51.09  0.912  0.112 -0.464   08:54:30.263   \n",
              "1    -36.12     29.01     76.34     48.51  0.912  0.112 -0.464   08:54:30.263   \n",
              "2    -43.59     31.42     58.11     30.55  0.912  0.112 -0.464   08:54:30.263   \n",
              "3    -77.29      2.68    -19.45    -49.45  0.912  0.112 -0.464   08:54:30.274   \n",
              "4    -57.05     17.48     52.08     23.03  0.912  0.112 -0.464   08:54:30.274   \n",
              "\n",
              "      timestamp  \n",
              "0  1.583848e+12  \n",
              "1  1.583848e+12  \n",
              "2  1.583848e+12  \n",
              "3  1.583848e+12  \n",
              "4  1.583848e+12  "
            ],
            "text/html": [
              "\n",
              "  <div id=\"df-3cbe0ef3-0ffa-4eb7-a4be-be7a4cb07a3c\" class=\"colab-df-container\">\n",
              "    <div>\n",
              "<style scoped>\n",
              "    .dataframe tbody tr th:only-of-type {\n",
              "        vertical-align: middle;\n",
              "    }\n",
              "\n",
              "    .dataframe tbody tr th {\n",
              "        vertical-align: top;\n",
              "    }\n",
              "\n",
              "    .dataframe thead th {\n",
              "        text-align: right;\n",
              "    }\n",
              "</style>\n",
              "<table border=\"1\" class=\"dataframe\">\n",
              "  <thead>\n",
              "    <tr style=\"text-align: right;\">\n",
              "      <th></th>\n",
              "      <th>channel1</th>\n",
              "      <th>channel2</th>\n",
              "      <th>channel3</th>\n",
              "      <th>channel4</th>\n",
              "      <th>acc1</th>\n",
              "      <th>acc2</th>\n",
              "      <th>acc3</th>\n",
              "      <th>time_std</th>\n",
              "      <th>timestamp</th>\n",
              "    </tr>\n",
              "  </thead>\n",
              "  <tbody>\n",
              "    <tr>\n",
              "      <th>0</th>\n",
              "      <td>-76.20</td>\n",
              "      <td>1.38</td>\n",
              "      <td>-34.35</td>\n",
              "      <td>-51.09</td>\n",
              "      <td>0.912</td>\n",
              "      <td>0.112</td>\n",
              "      <td>-0.464</td>\n",
              "      <td>08:54:30.263</td>\n",
              "      <td>1.583848e+12</td>\n",
              "    </tr>\n",
              "    <tr>\n",
              "      <th>1</th>\n",
              "      <td>-36.12</td>\n",
              "      <td>29.01</td>\n",
              "      <td>76.34</td>\n",
              "      <td>48.51</td>\n",
              "      <td>0.912</td>\n",
              "      <td>0.112</td>\n",
              "      <td>-0.464</td>\n",
              "      <td>08:54:30.263</td>\n",
              "      <td>1.583848e+12</td>\n",
              "    </tr>\n",
              "    <tr>\n",
              "      <th>2</th>\n",
              "      <td>-43.59</td>\n",
              "      <td>31.42</td>\n",
              "      <td>58.11</td>\n",
              "      <td>30.55</td>\n",
              "      <td>0.912</td>\n",
              "      <td>0.112</td>\n",
              "      <td>-0.464</td>\n",
              "      <td>08:54:30.263</td>\n",
              "      <td>1.583848e+12</td>\n",
              "    </tr>\n",
              "    <tr>\n",
              "      <th>3</th>\n",
              "      <td>-77.29</td>\n",
              "      <td>2.68</td>\n",
              "      <td>-19.45</td>\n",
              "      <td>-49.45</td>\n",
              "      <td>0.912</td>\n",
              "      <td>0.112</td>\n",
              "      <td>-0.464</td>\n",
              "      <td>08:54:30.274</td>\n",
              "      <td>1.583848e+12</td>\n",
              "    </tr>\n",
              "    <tr>\n",
              "      <th>4</th>\n",
              "      <td>-57.05</td>\n",
              "      <td>17.48</td>\n",
              "      <td>52.08</td>\n",
              "      <td>23.03</td>\n",
              "      <td>0.912</td>\n",
              "      <td>0.112</td>\n",
              "      <td>-0.464</td>\n",
              "      <td>08:54:30.274</td>\n",
              "      <td>1.583848e+12</td>\n",
              "    </tr>\n",
              "  </tbody>\n",
              "</table>\n",
              "</div>\n",
              "    <div class=\"colab-df-buttons\">\n",
              "\n",
              "  <div class=\"colab-df-container\">\n",
              "    <button class=\"colab-df-convert\" onclick=\"convertToInteractive('df-3cbe0ef3-0ffa-4eb7-a4be-be7a4cb07a3c')\"\n",
              "            title=\"Convert this dataframe to an interactive table.\"\n",
              "            style=\"display:none;\">\n",
              "\n",
              "  <svg xmlns=\"http://www.w3.org/2000/svg\" height=\"24px\" viewBox=\"0 -960 960 960\">\n",
              "    <path d=\"M120-120v-720h720v720H120Zm60-500h600v-160H180v160Zm220 220h160v-160H400v160Zm0 220h160v-160H400v160ZM180-400h160v-160H180v160Zm440 0h160v-160H620v160ZM180-180h160v-160H180v160Zm440 0h160v-160H620v160Z\"/>\n",
              "  </svg>\n",
              "    </button>\n",
              "\n",
              "  <style>\n",
              "    .colab-df-container {\n",
              "      display:flex;\n",
              "      gap: 12px;\n",
              "    }\n",
              "\n",
              "    .colab-df-convert {\n",
              "      background-color: #E8F0FE;\n",
              "      border: none;\n",
              "      border-radius: 50%;\n",
              "      cursor: pointer;\n",
              "      display: none;\n",
              "      fill: #1967D2;\n",
              "      height: 32px;\n",
              "      padding: 0 0 0 0;\n",
              "      width: 32px;\n",
              "    }\n",
              "\n",
              "    .colab-df-convert:hover {\n",
              "      background-color: #E2EBFA;\n",
              "      box-shadow: 0px 1px 2px rgba(60, 64, 67, 0.3), 0px 1px 3px 1px rgba(60, 64, 67, 0.15);\n",
              "      fill: #174EA6;\n",
              "    }\n",
              "\n",
              "    .colab-df-buttons div {\n",
              "      margin-bottom: 4px;\n",
              "    }\n",
              "\n",
              "    [theme=dark] .colab-df-convert {\n",
              "      background-color: #3B4455;\n",
              "      fill: #D2E3FC;\n",
              "    }\n",
              "\n",
              "    [theme=dark] .colab-df-convert:hover {\n",
              "      background-color: #434B5C;\n",
              "      box-shadow: 0px 1px 3px 1px rgba(0, 0, 0, 0.15);\n",
              "      filter: drop-shadow(0px 1px 2px rgba(0, 0, 0, 0.3));\n",
              "      fill: #FFFFFF;\n",
              "    }\n",
              "  </style>\n",
              "\n",
              "    <script>\n",
              "      const buttonEl =\n",
              "        document.querySelector('#df-3cbe0ef3-0ffa-4eb7-a4be-be7a4cb07a3c button.colab-df-convert');\n",
              "      buttonEl.style.display =\n",
              "        google.colab.kernel.accessAllowed ? 'block' : 'none';\n",
              "\n",
              "      async function convertToInteractive(key) {\n",
              "        const element = document.querySelector('#df-3cbe0ef3-0ffa-4eb7-a4be-be7a4cb07a3c');\n",
              "        const dataTable =\n",
              "          await google.colab.kernel.invokeFunction('convertToInteractive',\n",
              "                                                    [key], {});\n",
              "        if (!dataTable) return;\n",
              "\n",
              "        const docLinkHtml = 'Like what you see? Visit the ' +\n",
              "          '<a target=\"_blank\" href=https://colab.research.google.com/notebooks/data_table.ipynb>data table notebook</a>'\n",
              "          + ' to learn more about interactive tables.';\n",
              "        element.innerHTML = '';\n",
              "        dataTable['output_type'] = 'display_data';\n",
              "        await google.colab.output.renderOutput(dataTable, element);\n",
              "        const docLink = document.createElement('div');\n",
              "        docLink.innerHTML = docLinkHtml;\n",
              "        element.appendChild(docLink);\n",
              "      }\n",
              "    </script>\n",
              "  </div>\n",
              "\n",
              "\n",
              "<div id=\"df-ba8ccb43-776a-4b7d-8eba-b7d5bcb9dede\">\n",
              "  <button class=\"colab-df-quickchart\" onclick=\"quickchart('df-ba8ccb43-776a-4b7d-8eba-b7d5bcb9dede')\"\n",
              "            title=\"Suggest charts\"\n",
              "            style=\"display:none;\">\n",
              "\n",
              "<svg xmlns=\"http://www.w3.org/2000/svg\" height=\"24px\"viewBox=\"0 0 24 24\"\n",
              "     width=\"24px\">\n",
              "    <g>\n",
              "        <path d=\"M19 3H5c-1.1 0-2 .9-2 2v14c0 1.1.9 2 2 2h14c1.1 0 2-.9 2-2V5c0-1.1-.9-2-2-2zM9 17H7v-7h2v7zm4 0h-2V7h2v10zm4 0h-2v-4h2v4z\"/>\n",
              "    </g>\n",
              "</svg>\n",
              "  </button>\n",
              "\n",
              "<style>\n",
              "  .colab-df-quickchart {\n",
              "      --bg-color: #E8F0FE;\n",
              "      --fill-color: #1967D2;\n",
              "      --hover-bg-color: #E2EBFA;\n",
              "      --hover-fill-color: #174EA6;\n",
              "      --disabled-fill-color: #AAA;\n",
              "      --disabled-bg-color: #DDD;\n",
              "  }\n",
              "\n",
              "  [theme=dark] .colab-df-quickchart {\n",
              "      --bg-color: #3B4455;\n",
              "      --fill-color: #D2E3FC;\n",
              "      --hover-bg-color: #434B5C;\n",
              "      --hover-fill-color: #FFFFFF;\n",
              "      --disabled-bg-color: #3B4455;\n",
              "      --disabled-fill-color: #666;\n",
              "  }\n",
              "\n",
              "  .colab-df-quickchart {\n",
              "    background-color: var(--bg-color);\n",
              "    border: none;\n",
              "    border-radius: 50%;\n",
              "    cursor: pointer;\n",
              "    display: none;\n",
              "    fill: var(--fill-color);\n",
              "    height: 32px;\n",
              "    padding: 0;\n",
              "    width: 32px;\n",
              "  }\n",
              "\n",
              "  .colab-df-quickchart:hover {\n",
              "    background-color: var(--hover-bg-color);\n",
              "    box-shadow: 0 1px 2px rgba(60, 64, 67, 0.3), 0 1px 3px 1px rgba(60, 64, 67, 0.15);\n",
              "    fill: var(--button-hover-fill-color);\n",
              "  }\n",
              "\n",
              "  .colab-df-quickchart-complete:disabled,\n",
              "  .colab-df-quickchart-complete:disabled:hover {\n",
              "    background-color: var(--disabled-bg-color);\n",
              "    fill: var(--disabled-fill-color);\n",
              "    box-shadow: none;\n",
              "  }\n",
              "\n",
              "  .colab-df-spinner {\n",
              "    border: 2px solid var(--fill-color);\n",
              "    border-color: transparent;\n",
              "    border-bottom-color: var(--fill-color);\n",
              "    animation:\n",
              "      spin 1s steps(1) infinite;\n",
              "  }\n",
              "\n",
              "  @keyframes spin {\n",
              "    0% {\n",
              "      border-color: transparent;\n",
              "      border-bottom-color: var(--fill-color);\n",
              "      border-left-color: var(--fill-color);\n",
              "    }\n",
              "    20% {\n",
              "      border-color: transparent;\n",
              "      border-left-color: var(--fill-color);\n",
              "      border-top-color: var(--fill-color);\n",
              "    }\n",
              "    30% {\n",
              "      border-color: transparent;\n",
              "      border-left-color: var(--fill-color);\n",
              "      border-top-color: var(--fill-color);\n",
              "      border-right-color: var(--fill-color);\n",
              "    }\n",
              "    40% {\n",
              "      border-color: transparent;\n",
              "      border-right-color: var(--fill-color);\n",
              "      border-top-color: var(--fill-color);\n",
              "    }\n",
              "    60% {\n",
              "      border-color: transparent;\n",
              "      border-right-color: var(--fill-color);\n",
              "    }\n",
              "    80% {\n",
              "      border-color: transparent;\n",
              "      border-right-color: var(--fill-color);\n",
              "      border-bottom-color: var(--fill-color);\n",
              "    }\n",
              "    90% {\n",
              "      border-color: transparent;\n",
              "      border-bottom-color: var(--fill-color);\n",
              "    }\n",
              "  }\n",
              "</style>\n",
              "\n",
              "  <script>\n",
              "    async function quickchart(key) {\n",
              "      const quickchartButtonEl =\n",
              "        document.querySelector('#' + key + ' button');\n",
              "      quickchartButtonEl.disabled = true;  // To prevent multiple clicks.\n",
              "      quickchartButtonEl.classList.add('colab-df-spinner');\n",
              "      try {\n",
              "        const charts = await google.colab.kernel.invokeFunction(\n",
              "            'suggestCharts', [key], {});\n",
              "      } catch (error) {\n",
              "        console.error('Error during call to suggestCharts:', error);\n",
              "      }\n",
              "      quickchartButtonEl.classList.remove('colab-df-spinner');\n",
              "      quickchartButtonEl.classList.add('colab-df-quickchart-complete');\n",
              "    }\n",
              "    (() => {\n",
              "      let quickchartButtonEl =\n",
              "        document.querySelector('#df-ba8ccb43-776a-4b7d-8eba-b7d5bcb9dede button');\n",
              "      quickchartButtonEl.style.display =\n",
              "        google.colab.kernel.accessAllowed ? 'block' : 'none';\n",
              "    })();\n",
              "  </script>\n",
              "</div>\n",
              "\n",
              "    </div>\n",
              "  </div>\n"
            ]
          },
          "metadata": {},
          "execution_count": 7
        }
      ],
      "source": [
        "df.head()"
      ]
    },
    {
      "cell_type": "markdown",
      "metadata": {
        "id": "rbrlPv0-tXI5"
      },
      "source": [
        "# Explanation of the data\n",
        "As you can see the dataframe consists of 8 columns. Each row is a sample. The data was sampled at 200 Hz. That means 200 samples per second. There are four channels on the EEG device, two of these were place on the frontal lobe (forehead) and two on the temporal lobe (sides of the head). The acc1-3 channels are the accelerometer. If the subject moves, these channels will detect that. The time is represented by the final two columns."
      ]
    },
    {
      "cell_type": "markdown",
      "metadata": {
        "id": "P__DExfetXI7"
      },
      "source": [
        "Below, we will plot the entire time course of one channel."
      ]
    },
    {
      "cell_type": "code",
      "execution_count": 8,
      "metadata": {
        "colab": {
          "base_uri": "https://localhost:8080/",
          "height": 448
        },
        "id": "yeSpgiJctXI9",
        "outputId": "1aad94fa-be68-4eab-fced-183d13e0ac57"
      },
      "outputs": [
        {
          "output_type": "execute_result",
          "data": {
            "text/plain": [
              "[<matplotlib.lines.Line2D at 0x7d9b4074ab90>]"
            ]
          },
          "metadata": {},
          "execution_count": 8
        },
        {
          "output_type": "display_data",
          "data": {
            "text/plain": [
              "<Figure size 640x480 with 1 Axes>"
            ],
            "image/png": "[encoded data removed]"
          },
          "metadata": {}
        }
      ],
      "source": [
        "plt.figure()\n",
        "plt.plot(df['channel2'])"
      ]
    },
    {
      "cell_type": "markdown",
      "source": [
        "Question 1. What should the axes be labeled on the plot above?"
      ],
      "metadata": {
        "id": "DzFs8-CWiIFl"
      }
    },
    {
      "cell_type": "markdown",
      "metadata": {
        "id": "Oz0fJ8xCtXI_"
      },
      "source": [
        "# Remove drift\n",
        "The mean of the data changes over time. This is called drift. We can remove this trend in the data using scipy's detrend function."
      ]
    },
    {
      "cell_type": "code",
      "execution_count": 9,
      "metadata": {
        "colab": {
          "base_uri": "https://localhost:8080/",
          "height": 448
        },
        "id": "lT0oFcOStXJB",
        "outputId": "a8d3158c-8fd6-425d-9d98-737548dd4834"
      },
      "outputs": [
        {
          "output_type": "execute_result",
          "data": {
            "text/plain": [
              "[<matplotlib.lines.Line2D at 0x7d9b406723b0>]"
            ]
          },
          "metadata": {},
          "execution_count": 9
        },
        {
          "output_type": "display_data",
          "data": {
            "text/plain": [
              "<Figure size 640x480 with 1 Axes>"
            ],
            "image/png": "[encoded data removed]"
          },
          "metadata": {}
        }
      ],
      "source": [
        "plt.plot(df['channel1'])\n",
        "plt.plot(ss.detrend(df['channel1']))"
      ]
    },
    {
      "cell_type": "code",
      "execution_count": 10,
      "metadata": {
        "id": "RRBffHTPtXJC"
      },
      "outputs": [],
      "source": [
        "df['channel1'] = ss.detrend(df['channel1'])\n",
        "df['channel2'] = ss.detrend(df['channel2'])\n",
        "df['channel3'] = ss.detrend(df['channel3'])\n",
        "df['channel4'] = ss.detrend(df['channel4'])"
      ]
    },
    {
      "cell_type": "markdown",
      "source": [
        "Question 2. Where does drift come from?"
      ],
      "metadata": {
        "id": "IUfjUiTnh-_u"
      }
    },
    {
      "cell_type": "markdown",
      "metadata": {
        "id": "CxFHk6Y9tXJE"
      },
      "source": [
        "# Artifact removal\n",
        "Whenever the subject moved or blinked, there is a large deviation in the potential of all channels. We need to remove these."
      ]
    },
    {
      "cell_type": "code",
      "execution_count": 11,
      "metadata": {
        "id": "h-a0T9--tXJF"
      },
      "outputs": [],
      "source": [
        "zchan1 = (df['channel1']-np.mean(df['channel1']))/np.std(df['channel1'])\n",
        "zchan2 = (df['channel2']-np.mean(df['channel2']))/np.std(df['channel2'])\n",
        "zchan3 = (df['channel3']-np.mean(df['channel3']))/np.std(df['channel3'])\n",
        "zchan4 = (df['channel4']-np.mean(df['channel4']))/np.std(df['channel4'])"
      ]
    },
    {
      "cell_type": "code",
      "execution_count": 12,
      "metadata": {
        "colab": {
          "base_uri": "https://localhost:8080/",
          "height": 668
        },
        "id": "NpUb4jJmtXJF",
        "outputId": "38a1c4b9-6df6-495a-b48f-d27321d64f78"
      },
      "outputs": [
        {
          "output_type": "execute_result",
          "data": {
            "text/plain": [
              "[<matplotlib.lines.Line2D at 0x7d9b4050e9e0>]"
            ]
          },
          "metadata": {},
          "execution_count": 12
        },
        {
          "output_type": "display_data",
          "data": {
            "text/plain": [
              "<Figure size 1800x800 with 1 Axes>"
            ],
            "image/png": "[encoded data removed]"
          },
          "metadata": {}
        }
      ],
      "source": [
        "plt.figure(figsize=(18,8))\n",
        "plt.plot(zchan1)\n",
        "plt.plot(zchan1[np.abs(zchan1)>3],'r.')"
      ]
    },
    {
      "cell_type": "markdown",
      "metadata": {
        "id": "oqBY1mjttXJG"
      },
      "source": [
        "Most of these are artifacts."
      ]
    },
    {
      "cell_type": "markdown",
      "source": [
        "Question 3. What is one source of artifacts?"
      ],
      "metadata": {
        "id": "mUPNGl7fipDD"
      }
    },
    {
      "cell_type": "markdown",
      "metadata": {
        "id": "uvektwMCtXJO"
      },
      "source": [
        "# Make y labels\n",
        "The subject was in two states during the experiment; their eyes were either open or closed. Below, we define the times at which the eyes were open or closed."
      ]
    },
    {
      "cell_type": "code",
      "execution_count": 13,
      "metadata": {
        "id": "TuzZwdqxtXJP"
      },
      "outputs": [],
      "source": [
        "df['seconds_from_start']=(df['timestamp']-df['timestamp'].iloc[0])/1000"
      ]
    },
    {
      "cell_type": "code",
      "execution_count": 14,
      "metadata": {
        "id": "1umxgUegtXJQ"
      },
      "outputs": [],
      "source": [
        "y_labels = np.zeros((df['time_std'].shape[0],1))"
      ]
    },
    {
      "cell_type": "code",
      "execution_count": 15,
      "metadata": {
        "id": "gKwdvSzqtXJT"
      },
      "outputs": [],
      "source": [
        "y_labels[(60<df.seconds_from_start)&(df.seconds_from_start<90)] = 1\n",
        "y_labels[(120<df.seconds_from_start)&(df.seconds_from_start<150)] = 1\n",
        "y_labels[(180<df.seconds_from_start)&(df.seconds_from_start<210)] = 1\n",
        "y_labels[(240<df.seconds_from_start)&(df.seconds_from_start<270)] = 1\n",
        "y_labels[(300<df.seconds_from_start)&(df.seconds_from_start<330)] = 1\n",
        "y_labels[(360<df.seconds_from_start)&(df.seconds_from_start<390)] = 1\n",
        "y_labels[(420<df.seconds_from_start)&(df.seconds_from_start<450)] = 1\n",
        "y_labels[(480<df.seconds_from_start)&(df.seconds_from_start<510)] = 1\n",
        "y_labels[(540<df.seconds_from_start)&(df.seconds_from_start<570)] = 1\n",
        "y_labels[(600<df.seconds_from_start)&(df.seconds_from_start<630)] = 1"
      ]
    },
    {
      "cell_type": "code",
      "execution_count": 16,
      "metadata": {
        "id": "rtB_q2qPtXKC",
        "colab": {
          "base_uri": "https://localhost:8080/",
          "height": 448
        },
        "outputId": "c2e3a318-8d61-407b-f919-879181eba2e5"
      },
      "outputs": [
        {
          "output_type": "execute_result",
          "data": {
            "text/plain": [
              "[<matplotlib.lines.Line2D at 0x7d9b403bc070>]"
            ]
          },
          "metadata": {},
          "execution_count": 16
        },
        {
          "output_type": "display_data",
          "data": {
            "text/plain": [
              "<Figure size 640x480 with 1 Axes>"
            ],
            "image/png": "[encoded data removed]"
          },
          "metadata": {}
        }
      ],
      "source": [
        "plt.plot(zchan2)\n",
        "plt.plot(y_labels,'r')"
      ]
    },
    {
      "cell_type": "markdown",
      "metadata": {
        "id": "THGQFnHdtXKG"
      },
      "source": [
        "In the plot above, the trace of a single channel is shown in blue and whether or not the eyes were closed is shown in red. y_labels == 1 means eyes closed and y_labels == 0 means eyes open."
      ]
    },
    {
      "cell_type": "markdown",
      "metadata": {
        "id": "RwiBi7cvtXKH"
      },
      "source": [
        "Remove 60 Hz noise and artifacts. Any time a signal is recorded inside of a building, there will be a prominent 60 Hz noise from the power lines. We will remove this using a notch filter."
      ]
    },
    {
      "cell_type": "markdown",
      "source": [
        "Question 4. What are the 'groundtruth' classifications for this data? Where do they come from?"
      ],
      "metadata": {
        "id": "2CjBuLf0i8Th"
      }
    },
    {
      "cell_type": "code",
      "execution_count": 17,
      "metadata": {
        "id": "pNMslpmhtXKI"
      },
      "outputs": [],
      "source": [
        "b, a = ss.iirnotch(60.0, 200.0, 200.)\n",
        "\n",
        "zchan1 = ss.filtfilt(b,a,zchan1)\n",
        "zchan2 = ss.filtfilt(b,a,zchan2)\n",
        "zchan3 = ss.filtfilt(b,a,zchan3)\n",
        "zchan4 = ss.filtfilt(b,a,zchan4)\n",
        "\n",
        "zchan1[np.abs(zchan1)>3] = np.nan\n",
        "zchan2[np.abs(zchan2)>3] = np.nan\n",
        "zchan3[np.abs(zchan3)>3] = np.nan\n",
        "zchan4[np.abs(zchan4)>3] = np.nan\n",
        "y_labels[(np.abs(zchan1)>3) | (np.abs(zchan2)>3) | (np.abs(zchan3)>3) | (np.abs(zchan4)>3)] = np.nan"
      ]
    },
    {
      "cell_type": "code",
      "execution_count": 18,
      "metadata": {
        "id": "lxUAPwHktXKJ"
      },
      "outputs": [],
      "source": [
        "df['channel1'] = zchan1\n",
        "df['channel2'] = zchan2\n",
        "df['channel3'] = zchan3\n",
        "df['channel4'] = zchan4\n",
        "df['y_labels'] = y_labels"
      ]
    },
    {
      "cell_type": "markdown",
      "metadata": {
        "id": "jFNygENitXKK"
      },
      "source": [
        "The below graph shows the difference between eyes closed and eyes open in the frequency domain. It is well known that the eyes closed condition generates alpha waves at 8-12 Hz, which we also see in this recording. There may still be some 60 Hz noise that our notch filter failed to remove."
      ]
    },
    {
      "cell_type": "code",
      "execution_count": 19,
      "metadata": {
        "id": "KPyvSKKVtXKL",
        "colab": {
          "base_uri": "https://localhost:8080/",
          "height": 455
        },
        "outputId": "2de2365e-0236-4870-ff2c-3ec61155c6e2"
      },
      "outputs": [
        {
          "output_type": "display_data",
          "data": {
            "text/plain": [
              "<Figure size 640x480 with 1 Axes>"
            ],
            "image/png": "[encoded data removed]"
          },
          "metadata": {}
        }
      ],
      "source": [
        "X = df['channel2'].iloc[y_labels[:,0]==0]\n",
        "plt.psd(X[~np.isnan(X)],512,Fs=200,color='r')\n",
        "X = df['channel2'].iloc[y_labels[:,0]==1]\n",
        "plt.psd(X[~np.isnan(X)],512,Fs=200)\n",
        "plt.xlim(0,100)\n",
        "#plt.show()\n",
        "plt.show()"
      ]
    },
    {
      "cell_type": "markdown",
      "source": [
        "Question 5. What 'noise' causes the peak at 60 Hz frequency? What about 80 Hz? Will there be peaks at multiples of these frequencies i.e. 120 Hz? What is the name of the structure that neuroscience researchers perform electrophysiology inside to eliminate such noise?"
      ],
      "metadata": {
        "id": "x5rTxGK0jngY"
      }
    },
    {
      "cell_type": "code",
      "execution_count": 20,
      "metadata": {
        "id": "Xdb2BsSktXKN"
      },
      "outputs": [],
      "source": [
        "from scipy.integrate import simps\n",
        "import scipy.stats as sst\n",
        "from matplotlib.mlab import psd\n",
        "\n",
        "def bandpower(trace,band):\n",
        "    [a1,f1]=psd(trace[~np.isnan(trace)],512,Fs=200)\n",
        "    total_power1 = simps(a1, dx=0.1)\n",
        "    ap1 = simps(a1[(f1>band[0]) & (f1<band[1])], dx=0.1)\n",
        "    return ap1/total_power1\n",
        "\n",
        "input_mat = np.zeros((600,21))\n",
        "c=0\n",
        "for i in np.arange(0,120000,200):\n",
        "\n",
        "    X1=df['channel1'];X2=df['channel2'];X3=df['channel3'];X4 = df['channel4']\n",
        "    Y = df['y_labels']\n",
        "\n",
        "    X1=X1[i:i+200];X2=X2[i:i+200];X3=X3[i:i+200];X4=X4[i:i+200]\n",
        "    Y=Y[i:i+200]\n",
        "\n",
        "    input_mat[c,0] = bandpower(X1,[8,12]);input_mat[c,1] = bandpower(X2,[8,12]);\n",
        "    input_mat[c,2] = bandpower(X3,[8,12]);input_mat[c,3] = bandpower(X4,[8,12]);\n",
        "\n",
        "    input_mat[c,4] = bandpower(X1,[3,8]);input_mat[c,5] = bandpower(X2,[3,8]);\n",
        "    input_mat[c,6] = bandpower(X3,[3,8]);input_mat[c,7] = bandpower(X4,[3,8]);\n",
        "\n",
        "    input_mat[c,8] = bandpower(X1,[12,38]);input_mat[c,9] = bandpower(X2,[12,38]);\n",
        "    input_mat[c,10] = bandpower(X3,[12,38]);input_mat[c,11] = bandpower(X4,[12,38]);\n",
        "\n",
        "    input_mat[c,12] = bandpower(X1,[38,100]);input_mat[c,13] = bandpower(X2,[38,100]);\n",
        "    input_mat[c,14] = bandpower(X3,[38,100]);input_mat[c,15] = bandpower(X4,[38,100]);\n",
        "\n",
        "    input_mat[c,16] = bandpower(X1,[0.5,3]);input_mat[c,17] = bandpower(X2,[0.5,3]);\n",
        "    input_mat[c,18] = bandpower(X3,[0.5,3]);input_mat[c,19] = bandpower(X4,[0.5,3]);\n",
        "\n",
        "    [u,n] = np.unique(Y,return_counts=True)\n",
        "    if n.shape[0]==1:\n",
        "        input_mat[c,-1] = u[0].astype(int)\n",
        "    else:\n",
        "        input_mat[c,-1] = np.nan\n",
        "\n",
        "    c+=1\n",
        "\n",
        "feat_eng_df = pd.DataFrame(input_mat, columns = ['alpha_power_1','alpha_power_2','alpha_power_3','alpha_power_4',\n",
        "                                                 'theta_power_1','theta_power_2','theta_power_3','theta_power_4',\n",
        "                                                 'beta_power_1','beta_power_2','beta_power_3','beta_power_4',\n",
        "                                                 'gamma_power_1','gamma_power_2','gamma_power_3','gamma_power_4',\n",
        "                                                 'delta_power_1','delta_power_2','delta_power_3','delta_power_4',\n",
        "                                                 'eyes_closed'])"
      ]
    },
    {
      "cell_type": "code",
      "execution_count": 21,
      "metadata": {
        "id": "2QQgOkIDtXKR",
        "colab": {
          "base_uri": "https://localhost:8080/",
          "height": 468
        },
        "outputId": "415ad3c7-6b0a-4fed-ca19-62bf489d4e4e"
      },
      "outputs": [
        {
          "output_type": "execute_result",
          "data": {
            "text/plain": [
              "<Axes: xlabel='eyes_closed', ylabel='alpha_power_3'>"
            ]
          },
          "metadata": {},
          "execution_count": 21
        },
        {
          "output_type": "display_data",
          "data": {
            "text/plain": [
              "<Figure size 640x480 with 1 Axes>"
            ],
            "image/png": "[encoded data removed]"
          },
          "metadata": {}
        }
      ],
      "source": [
        "import seaborn as sns\n",
        "sns.boxplot(x='eyes_closed',y='alpha_power_3',data=feat_eng_df)"
      ]
    },
    {
      "cell_type": "markdown",
      "metadata": {
        "id": "J8oEGqm1tXKS"
      },
      "source": [
        "# Feature Engineering Model"
      ]
    },
    {
      "cell_type": "code",
      "execution_count": 22,
      "metadata": {
        "id": "1l17hfcvtXKX"
      },
      "outputs": [],
      "source": [
        "from sklearn.preprocessing import scale\n",
        "\n",
        "train_df = feat_eng_df.iloc[0:420,:]\n",
        "test_df = feat_eng_df.iloc[420:,:]\n",
        "\n",
        "train_df = train_df.sample(frac=1).reset_index(drop=True)\n",
        "test_df = test_df.sample(frac=1).reset_index(drop=True)\n",
        "\n",
        "X_train = train_df.iloc[:,:-1]\n",
        "y_train = train_df.iloc[:,-1]\n",
        "X_test = test_df.iloc[:,:-1]\n",
        "y_test = test_df.iloc[:,-1]\n",
        "\n",
        "X_train = X_train[~np.isnan(y_train)]\n",
        "y_train = y_train[~np.isnan(y_train)]\n",
        "X_test = X_test[~np.isnan(y_test)]\n",
        "y_test = y_test[~np.isnan(y_test)]\n",
        "\n",
        "\n",
        "X_train = scale(X_train)\n",
        "X_test = scale(X_test)"
      ]
    },
    {
      "cell_type": "code",
      "execution_count": 23,
      "metadata": {
        "id": "7ZQjjWMHtXKZ",
        "colab": {
          "base_uri": "https://localhost:8080/"
        },
        "outputId": "e98e880d-44f2-4c7a-d9f9-0585b5310a03"
      },
      "outputs": [
        {
          "output_type": "execute_result",
          "data": {
            "text/plain": [
              "((408, 20), (174, 20))"
            ]
          },
          "metadata": {},
          "execution_count": 23
        }
      ],
      "source": [
        "X_train.shape, X_test.shape"
      ]
    },
    {
      "cell_type": "code",
      "execution_count": 24,
      "metadata": {
        "id": "D_OjGawGtXLO",
        "colab": {
          "base_uri": "https://localhost:8080/"
        },
        "outputId": "e2a89ec5-da8a-44a3-cc0b-28cfe923552e"
      },
      "outputs": [
        {
          "output_type": "stream",
          "name": "stdout",
          "text": [
            "[[72 15]\n",
            " [31 56]]\n",
            "[[62 25]\n",
            " [33 54]]\n",
            "[[64 23]\n",
            " [68 19]]\n"
          ]
        }
      ],
      "source": [
        "from sklearn.linear_model import LogisticRegression\n",
        "from sklearn.ensemble import RandomForestClassifier\n",
        "from sklearn.neural_network import MLPClassifier\n",
        "from sklearn.metrics import confusion_matrix\n",
        "\n",
        "#initialize models\n",
        "lr = LogisticRegression(random_state=231)\n",
        "rf = RandomForestClassifier(random_state=2124)\n",
        "mlp = MLPClassifier(hidden_layer_sizes=(5,),early_stopping=True,max_iter=1000,random_state=12)\n",
        "\n",
        "# Train models on the training data and their measured classifications\n",
        "lr.fit(X_train,y_train.values)\n",
        "rf.fit(X_train,y_train.values)\n",
        "mlp.fit(X_train,y_train.values)\n",
        "\n",
        "yhatlr = lr.predict(X_test) # use models to make predictions on the testing data\n",
        "yhatrf = rf.predict(X_test)\n",
        "yhatmlp = mlp.predict(X_test)\n",
        "\n",
        "# compare model-predicted classifications with measured classifications\n",
        "print(confusion_matrix(y_test,yhatlr)) # Linear Regression confusion matrix\n",
        "print(confusion_matrix(y_test,yhatrf)) # Random Forest confusion matrix\n",
        "print(confusion_matrix(y_test,yhatmlp)) # Multi-Layer Perceptron confusion matrix"
      ]
    },
    {
      "cell_type": "markdown",
      "source": [
        "Question 6. Briefly describe the algorithms: Logistic Regression, Random Forest Classifier, and Multi-Layer Perceptron Classifier.\n",
        "\n",
        "Question 7. What is a confusion Matrix? What information do the above numbers convey? How do you estimate accuracy from confusion matrix? Compute the accuracy of the 3 models and compare them."
      ],
      "metadata": {
        "id": "Re6ZB2Tsk7I5"
      }
    },
    {
      "cell_type": "markdown",
      "metadata": {
        "id": "eekErTC9tXLR"
      },
      "source": [
        "# Model raw data\n",
        "\n",
        "Below we transform the data into a frame suitable for supervised learning. A window size of 50 represents 0.25 seconds."
      ]
    },
    {
      "cell_type": "code",
      "execution_count": 25,
      "metadata": {
        "id": "BP_NaQBAtXLS"
      },
      "outputs": [],
      "source": [
        "df_train = df[df.seconds_from_start<=420]\n",
        "df_test = df[df.seconds_from_start>420]"
      ]
    },
    {
      "cell_type": "code",
      "execution_count": 26,
      "metadata": {
        "id": "9EPygaYDtXLT",
        "colab": {
          "base_uri": "https://localhost:8080/",
          "height": 206
        },
        "outputId": "0cc4ea55-7bcb-43ce-c18a-755975a5c2de"
      },
      "outputs": [
        {
          "output_type": "execute_result",
          "data": {
            "text/plain": [
              "   channel1  channel2  channel3  channel4   acc1   acc2   acc3       time_std  \\\n",
              "0 -0.219697 -0.774254 -0.099779 -0.503364  0.912  0.112 -0.464   08:54:30.263   \n",
              "1  0.253886 -0.442505  1.015076  0.527823  0.912  0.112 -0.464   08:54:30.263   \n",
              "2  0.111783 -0.453969  0.839341  0.320779  0.912  0.112 -0.464   08:54:30.263   \n",
              "3 -0.232359 -0.767459  0.220389 -0.413223  0.912  0.112 -0.464   08:54:30.274   \n",
              "4 -0.051354 -0.574461  0.868939  0.340731  0.912  0.112 -0.464   08:54:30.274   \n",
              "\n",
              "      timestamp  seconds_from_start  y_labels  \n",
              "0  1.583848e+12               0.000       0.0  \n",
              "1  1.583848e+12               0.000       0.0  \n",
              "2  1.583848e+12               0.000       0.0  \n",
              "3  1.583848e+12               0.011       0.0  \n",
              "4  1.583848e+12               0.011       0.0  "
            ],
            "text/html": [
              "\n",
              "  <div id=\"df-111a9822-8643-445a-8c10-d91cc41065f7\" class=\"colab-df-container\">\n",
              "    <div>\n",
              "<style scoped>\n",
              "    .dataframe tbody tr th:only-of-type {\n",
              "        vertical-align: middle;\n",
              "    }\n",
              "\n",
              "    .dataframe tbody tr th {\n",
              "        vertical-align: top;\n",
              "    }\n",
              "\n",
              "    .dataframe thead th {\n",
              "        text-align: right;\n",
              "    }\n",
              "</style>\n",
              "<table border=\"1\" class=\"dataframe\">\n",
              "  <thead>\n",
              "    <tr style=\"text-align: right;\">\n",
              "      <th></th>\n",
              "      <th>channel1</th>\n",
              "      <th>channel2</th>\n",
              "      <th>channel3</th>\n",
              "      <th>channel4</th>\n",
              "      <th>acc1</th>\n",
              "      <th>acc2</th>\n",
              "      <th>acc3</th>\n",
              "      <th>time_std</th>\n",
              "      <th>timestamp</th>\n",
              "      <th>seconds_from_start</th>\n",
              "      <th>y_labels</th>\n",
              "    </tr>\n",
              "  </thead>\n",
              "  <tbody>\n",
              "    <tr>\n",
              "      <th>0</th>\n",
              "      <td>-0.219697</td>\n",
              "      <td>-0.774254</td>\n",
              "      <td>-0.099779</td>\n",
              "      <td>-0.503364</td>\n",
              "      <td>0.912</td>\n",
              "      <td>0.112</td>\n",
              "      <td>-0.464</td>\n",
              "      <td>08:54:30.263</td>\n",
              "      <td>1.583848e+12</td>\n",
              "      <td>0.000</td>\n",
              "      <td>0.0</td>\n",
              "    </tr>\n",
              "    <tr>\n",
              "      <th>1</th>\n",
              "      <td>0.253886</td>\n",
              "      <td>-0.442505</td>\n",
              "      <td>1.015076</td>\n",
              "      <td>0.527823</td>\n",
              "      <td>0.912</td>\n",
              "      <td>0.112</td>\n",
              "      <td>-0.464</td>\n",
              "      <td>08:54:30.263</td>\n",
              "      <td>1.583848e+12</td>\n",
              "      <td>0.000</td>\n",
              "      <td>0.0</td>\n",
              "    </tr>\n",
              "    <tr>\n",
              "      <th>2</th>\n",
              "      <td>0.111783</td>\n",
              "      <td>-0.453969</td>\n",
              "      <td>0.839341</td>\n",
              "      <td>0.320779</td>\n",
              "      <td>0.912</td>\n",
              "      <td>0.112</td>\n",
              "      <td>-0.464</td>\n",
              "      <td>08:54:30.263</td>\n",
              "      <td>1.583848e+12</td>\n",
              "      <td>0.000</td>\n",
              "      <td>0.0</td>\n",
              "    </tr>\n",
              "    <tr>\n",
              "      <th>3</th>\n",
              "      <td>-0.232359</td>\n",
              "      <td>-0.767459</td>\n",
              "      <td>0.220389</td>\n",
              "      <td>-0.413223</td>\n",
              "      <td>0.912</td>\n",
              "      <td>0.112</td>\n",
              "      <td>-0.464</td>\n",
              "      <td>08:54:30.274</td>\n",
              "      <td>1.583848e+12</td>\n",
              "      <td>0.011</td>\n",
              "      <td>0.0</td>\n",
              "    </tr>\n",
              "    <tr>\n",
              "      <th>4</th>\n",
              "      <td>-0.051354</td>\n",
              "      <td>-0.574461</td>\n",
              "      <td>0.868939</td>\n",
              "      <td>0.340731</td>\n",
              "      <td>0.912</td>\n",
              "      <td>0.112</td>\n",
              "      <td>-0.464</td>\n",
              "      <td>08:54:30.274</td>\n",
              "      <td>1.583848e+12</td>\n",
              "      <td>0.011</td>\n",
              "      <td>0.0</td>\n",
              "    </tr>\n",
              "  </tbody>\n",
              "</table>\n",
              "</div>\n",
              "    <div class=\"colab-df-buttons\">\n",
              "\n",
              "  <div class=\"colab-df-container\">\n",
              "    <button class=\"colab-df-convert\" onclick=\"convertToInteractive('df-111a9822-8643-445a-8c10-d91cc41065f7')\"\n",
              "            title=\"Convert this dataframe to an interactive table.\"\n",
              "            style=\"display:none;\">\n",
              "\n",
              "  <svg xmlns=\"http://www.w3.org/2000/svg\" height=\"24px\" viewBox=\"0 -960 960 960\">\n",
              "    <path d=\"M120-120v-720h720v720H120Zm60-500h600v-160H180v160Zm220 220h160v-160H400v160Zm0 220h160v-160H400v160ZM180-400h160v-160H180v160Zm440 0h160v-160H620v160ZM180-180h160v-160H180v160Zm440 0h160v-160H620v160Z\"/>\n",
              "  </svg>\n",
              "    </button>\n",
              "\n",
              "  <style>\n",
              "    .colab-df-container {\n",
              "      display:flex;\n",
              "      gap: 12px;\n",
              "    }\n",
              "\n",
              "    .colab-df-convert {\n",
              "      background-color: #E8F0FE;\n",
              "      border: none;\n",
              "      border-radius: 50%;\n",
              "      cursor: pointer;\n",
              "      display: none;\n",
              "      fill: #1967D2;\n",
              "      height: 32px;\n",
              "      padding: 0 0 0 0;\n",
              "      width: 32px;\n",
              "    }\n",
              "\n",
              "    .colab-df-convert:hover {\n",
              "      background-color: #E2EBFA;\n",
              "      box-shadow: 0px 1px 2px rgba(60, 64, 67, 0.3), 0px 1px 3px 1px rgba(60, 64, 67, 0.15);\n",
              "      fill: #174EA6;\n",
              "    }\n",
              "\n",
              "    .colab-df-buttons div {\n",
              "      margin-bottom: 4px;\n",
              "    }\n",
              "\n",
              "    [theme=dark] .colab-df-convert {\n",
              "      background-color: #3B4455;\n",
              "      fill: #D2E3FC;\n",
              "    }\n",
              "\n",
              "    [theme=dark] .colab-df-convert:hover {\n",
              "      background-color: #434B5C;\n",
              "      box-shadow: 0px 1px 3px 1px rgba(0, 0, 0, 0.15);\n",
              "      filter: drop-shadow(0px 1px 2px rgba(0, 0, 0, 0.3));\n",
              "      fill: #FFFFFF;\n",
              "    }\n",
              "  </style>\n",
              "\n",
              "    <script>\n",
              "      const buttonEl =\n",
              "        document.querySelector('#df-111a9822-8643-445a-8c10-d91cc41065f7 button.colab-df-convert');\n",
              "      buttonEl.style.display =\n",
              "        google.colab.kernel.accessAllowed ? 'block' : 'none';\n",
              "\n",
              "      async function convertToInteractive(key) {\n",
              "        const element = document.querySelector('#df-111a9822-8643-445a-8c10-d91cc41065f7');\n",
              "        const dataTable =\n",
              "          await google.colab.kernel.invokeFunction('convertToInteractive',\n",
              "                                                    [key], {});\n",
              "        if (!dataTable) return;\n",
              "\n",
              "        const docLinkHtml = 'Like what you see? Visit the ' +\n",
              "          '<a target=\"_blank\" href=https://colab.research.google.com/notebooks/data_table.ipynb>data table notebook</a>'\n",
              "          + ' to learn more about interactive tables.';\n",
              "        element.innerHTML = '';\n",
              "        dataTable['output_type'] = 'display_data';\n",
              "        await google.colab.output.renderOutput(dataTable, element);\n",
              "        const docLink = document.createElement('div');\n",
              "        docLink.innerHTML = docLinkHtml;\n",
              "        element.appendChild(docLink);\n",
              "      }\n",
              "    </script>\n",
              "  </div>\n",
              "\n",
              "\n",
              "<div id=\"df-f4b06a72-0ae4-4117-aa90-11964af66104\">\n",
              "  <button class=\"colab-df-quickchart\" onclick=\"quickchart('df-f4b06a72-0ae4-4117-aa90-11964af66104')\"\n",
              "            title=\"Suggest charts\"\n",
              "            style=\"display:none;\">\n",
              "\n",
              "<svg xmlns=\"http://www.w3.org/2000/svg\" height=\"24px\"viewBox=\"0 0 24 24\"\n",
              "     width=\"24px\">\n",
              "    <g>\n",
              "        <path d=\"M19 3H5c-1.1 0-2 .9-2 2v14c0 1.1.9 2 2 2h14c1.1 0 2-.9 2-2V5c0-1.1-.9-2-2-2zM9 17H7v-7h2v7zm4 0h-2V7h2v10zm4 0h-2v-4h2v4z\"/>\n",
              "    </g>\n",
              "</svg>\n",
              "  </button>\n",
              "\n",
              "<style>\n",
              "  .colab-df-quickchart {\n",
              "      --bg-color: #E8F0FE;\n",
              "      --fill-color: #1967D2;\n",
              "      --hover-bg-color: #E2EBFA;\n",
              "      --hover-fill-color: #174EA6;\n",
              "      --disabled-fill-color: #AAA;\n",
              "      --disabled-bg-color: #DDD;\n",
              "  }\n",
              "\n",
              "  [theme=dark] .colab-df-quickchart {\n",
              "      --bg-color: #3B4455;\n",
              "      --fill-color: #D2E3FC;\n",
              "      --hover-bg-color: #434B5C;\n",
              "      --hover-fill-color: #FFFFFF;\n",
              "      --disabled-bg-color: #3B4455;\n",
              "      --disabled-fill-color: #666;\n",
              "  }\n",
              "\n",
              "  .colab-df-quickchart {\n",
              "    background-color: var(--bg-color);\n",
              "    border: none;\n",
              "    border-radius: 50%;\n",
              "    cursor: pointer;\n",
              "    display: none;\n",
              "    fill: var(--fill-color);\n",
              "    height: 32px;\n",
              "    padding: 0;\n",
              "    width: 32px;\n",
              "  }\n",
              "\n",
              "  .colab-df-quickchart:hover {\n",
              "    background-color: var(--hover-bg-color);\n",
              "    box-shadow: 0 1px 2px rgba(60, 64, 67, 0.3), 0 1px 3px 1px rgba(60, 64, 67, 0.15);\n",
              "    fill: var(--button-hover-fill-color);\n",
              "  }\n",
              "\n",
              "  .colab-df-quickchart-complete:disabled,\n",
              "  .colab-df-quickchart-complete:disabled:hover {\n",
              "    background-color: var(--disabled-bg-color);\n",
              "    fill: var(--disabled-fill-color);\n",
              "    box-shadow: none;\n",
              "  }\n",
              "\n",
              "  .colab-df-spinner {\n",
              "    border: 2px solid var(--fill-color);\n",
              "    border-color: transparent;\n",
              "    border-bottom-color: var(--fill-color);\n",
              "    animation:\n",
              "      spin 1s steps(1) infinite;\n",
              "  }\n",
              "\n",
              "  @keyframes spin {\n",
              "    0% {\n",
              "      border-color: transparent;\n",
              "      border-bottom-color: var(--fill-color);\n",
              "      border-left-color: var(--fill-color);\n",
              "    }\n",
              "    20% {\n",
              "      border-color: transparent;\n",
              "      border-left-color: var(--fill-color);\n",
              "      border-top-color: var(--fill-color);\n",
              "    }\n",
              "    30% {\n",
              "      border-color: transparent;\n",
              "      border-left-color: var(--fill-color);\n",
              "      border-top-color: var(--fill-color);\n",
              "      border-right-color: var(--fill-color);\n",
              "    }\n",
              "    40% {\n",
              "      border-color: transparent;\n",
              "      border-right-color: var(--fill-color);\n",
              "      border-top-color: var(--fill-color);\n",
              "    }\n",
              "    60% {\n",
              "      border-color: transparent;\n",
              "      border-right-color: var(--fill-color);\n",
              "    }\n",
              "    80% {\n",
              "      border-color: transparent;\n",
              "      border-right-color: var(--fill-color);\n",
              "      border-bottom-color: var(--fill-color);\n",
              "    }\n",
              "    90% {\n",
              "      border-color: transparent;\n",
              "      border-bottom-color: var(--fill-color);\n",
              "    }\n",
              "  }\n",
              "</style>\n",
              "\n",
              "  <script>\n",
              "    async function quickchart(key) {\n",
              "      const quickchartButtonEl =\n",
              "        document.querySelector('#' + key + ' button');\n",
              "      quickchartButtonEl.disabled = true;  // To prevent multiple clicks.\n",
              "      quickchartButtonEl.classList.add('colab-df-spinner');\n",
              "      try {\n",
              "        const charts = await google.colab.kernel.invokeFunction(\n",
              "            'suggestCharts', [key], {});\n",
              "      } catch (error) {\n",
              "        console.error('Error during call to suggestCharts:', error);\n",
              "      }\n",
              "      quickchartButtonEl.classList.remove('colab-df-spinner');\n",
              "      quickchartButtonEl.classList.add('colab-df-quickchart-complete');\n",
              "    }\n",
              "    (() => {\n",
              "      let quickchartButtonEl =\n",
              "        document.querySelector('#df-f4b06a72-0ae4-4117-aa90-11964af66104 button');\n",
              "      quickchartButtonEl.style.display =\n",
              "        google.colab.kernel.accessAllowed ? 'block' : 'none';\n",
              "    })();\n",
              "  </script>\n",
              "</div>\n",
              "\n",
              "    </div>\n",
              "  </div>\n"
            ]
          },
          "metadata": {},
          "execution_count": 26
        }
      ],
      "source": [
        "df_train.head()"
      ]
    },
    {
      "cell_type": "code",
      "execution_count": 27,
      "metadata": {
        "id": "BcS6wrCXtXLV",
        "colab": {
          "base_uri": "https://localhost:8080/",
          "height": 192,
          "referenced_widgets": [
            "82445ebbcbee4625873d1172939c57d8",
            "9e97714ed7894b0292b1466bb0f4e9ce",
            "1da27fa687ed469f8c53aa80a04b6f26",
            "5c53b0f514c04836b561cb8228e6a5bb",
            "327ec50d70174fcb8edf83d0d3a91b29",
            "99c4ef00ccd84a4881cd20b65e1ecd9e",
            "1a621643d8ef4f97bd23e9baa43953b7",
            "91564451263c435e966995182e395a03",
            "ead03c050eb142dcb474e77fb15fbd09",
            "c6d7b1f9b1f24082afe3d62d8a7db17b",
            "50a27e58b01e4505a19c1605da1666d8",
            "1456636267374dd2ba94b64790e58e85",
            "5937bcdd751a476f825d71563de5f5a2",
            "369eeebfac9948e68a368db17475d0d6",
            "2479fba498b440d0a5b1d4be729e29bb",
            "9565c5743c4142f98abbe127ec2082f5",
            "6fe91205600540f289cc758128914630",
            "8df853479d9842ef878b28878e4af934",
            "ee3b3c5992094f76aacfd104154b52a6",
            "c3095e1d9e674017945dc84f5337ffdd",
            "0c0aaef1e06f4c7caffb0cd09f7fa0ca",
            "4e5b7b0a76104b398a0b5365eb99efee"
          ]
        },
        "outputId": "daf7bc2e-908c-47b8-d1a7-06be6ba1d2e9"
      },
      "outputs": [
        {
          "output_type": "stream",
          "name": "stderr",
          "text": [
            "<ipython-input-27-fe3449376fee>:8: TqdmDeprecationWarning: This function will be removed in tqdm==5.0.0\n",
            "Please use `tqdm.notebook.tqdm` instead of `tqdm.tqdm_notebook`\n",
            "  for i in tqdm_notebook(np.arange(0,df_train.shape[0]-window_size,stride)):\n"
          ]
        },
        {
          "output_type": "display_data",
          "data": {
            "text/plain": [
              "  0%|          | 0/4197 [00:00<?, ?it/s]"
            ],
            "application/vnd.jupyter.widget-view+json": {
              "version_major": 2,
              "version_minor": 0,
              "model_id": "82445ebbcbee4625873d1172939c57d8"
            }
          },
          "metadata": {}
        },
        {
          "output_type": "stream",
          "name": "stderr",
          "text": [
            "<ipython-input-27-fe3449376fee>:26: TqdmDeprecationWarning: This function will be removed in tqdm==5.0.0\n",
            "Please use `tqdm.notebook.tqdm` instead of `tqdm.tqdm_notebook`\n",
            "  for i in tqdm_notebook(np.arange(0,df_test.shape[0]-window_size,stride)):\n"
          ]
        },
        {
          "output_type": "display_data",
          "data": {
            "text/plain": [
              "  0%|          | 0/2109 [00:00<?, ?it/s]"
            ],
            "application/vnd.jupyter.widget-view+json": {
              "version_major": 2,
              "version_minor": 0,
              "model_id": "1456636267374dd2ba94b64790e58e85"
            }
          },
          "metadata": {}
        }
      ],
      "source": [
        "from tqdm import tqdm_notebook\n",
        "\n",
        "window_size = 50\n",
        "stride=20\n",
        "\n",
        "df_class_train = np.zeros((int(df_train.shape[0]/stride),window_size+1,4))\n",
        "c=0\n",
        "for i in tqdm_notebook(np.arange(0,df_train.shape[0]-window_size,stride)):\n",
        "    df_class_train[c,0:window_size,0] = df_train['channel1'].iloc[i:i+window_size]\n",
        "    df_class_train[c,0:window_size,1] = df_train['channel2'].iloc[i:i+window_size]\n",
        "    df_class_train[c,0:window_size,2] = df_train['channel3'].iloc[i:i+window_size]\n",
        "    df_class_train[c,0:window_size,3] = df_train['channel4'].iloc[i:i+window_size]\n",
        "\n",
        "    ylabs = df_train['y_labels'].iloc[i:i+window_size]\n",
        "    ones=ylabs[ylabs==1]\n",
        "    zeros=ylabs[ylabs==0]\n",
        "\n",
        "    if ones.shape[0]>zeros.shape[0]:\n",
        "        df_class_train[c,-1,:] = 1\n",
        "    else:\n",
        "        df_class_train[c,-1,:] = 0\n",
        "    c+=1\n",
        "\n",
        "df_class_test = np.zeros((int(df_test.shape[0]/stride),window_size+1,4))\n",
        "c=0\n",
        "for i in tqdm_notebook(np.arange(0,df_test.shape[0]-window_size,stride)):\n",
        "    df_class_test[c,0:window_size,0] = df_test['channel1'].iloc[i:i+window_size]\n",
        "    df_class_test[c,0:window_size,1] = df_test['channel2'].iloc[i:i+window_size]\n",
        "    df_class_test[c,0:window_size,2] = df_test['channel3'].iloc[i:i+window_size]\n",
        "    df_class_test[c,0:window_size,3] = df_test['channel4'].iloc[i:i+window_size]\n",
        "\n",
        "    ylabs = df_test['y_labels'].iloc[i:i+window_size]\n",
        "    ones=ylabs[ylabs==1]\n",
        "    zeros=ylabs[ylabs==0]\n",
        "\n",
        "    if ones.shape[0]>zeros.shape[0]:\n",
        "        df_class_test[c,-1,:] = 1\n",
        "    else:\n",
        "        df_class_test[c,-1,:] = 0\n",
        "    c+=1\n"
      ]
    },
    {
      "cell_type": "markdown",
      "metadata": {
        "id": "MH0V5rmZtXLX"
      },
      "source": [
        "Remove NaN rows"
      ]
    },
    {
      "cell_type": "code",
      "execution_count": 28,
      "metadata": {
        "id": "QDXjbw7ztXLX"
      },
      "outputs": [],
      "source": [
        "df_class_train = df_class_train[~np.isnan(df_class_train[:,:-1,0]).any(axis=1),:,:]\n",
        "df_class_train = df_class_train[~np.isnan(df_class_train[:,:-1,1]).any(axis=1),:,:]\n",
        "df_class_train = df_class_train[~np.isnan(df_class_train[:,:-1,2]).any(axis=1),:,:]\n",
        "df_class_train = df_class_train[~np.isnan(df_class_train[:,:-1,3]).any(axis=1),:,:]\n",
        "\n",
        "df_class_test = df_class_test[~np.isnan(df_class_test[:,:-1,0]).any(axis=1),:,:]\n",
        "df_class_test = df_class_test[~np.isnan(df_class_test[:,:-1,1]).any(axis=1),:,:]\n",
        "df_class_test = df_class_test[~np.isnan(df_class_test[:,:-1,2]).any(axis=1),:,:]\n",
        "df_class_test = df_class_test[~np.isnan(df_class_test[:,:-1,3]).any(axis=1),:,:]"
      ]
    },
    {
      "cell_type": "code",
      "execution_count": 29,
      "metadata": {
        "id": "yf6EbISBtXLY",
        "colab": {
          "base_uri": "https://localhost:8080/"
        },
        "outputId": "ec13cd0a-4efb-4f3f-f3ff-d716e7ccbf2b"
      },
      "outputs": [
        {
          "output_type": "execute_result",
          "data": {
            "text/plain": [
              "((4061, 51, 4), (2064, 51, 4))"
            ]
          },
          "metadata": {},
          "execution_count": 29
        }
      ],
      "source": [
        "df_class_train.shape,df_class_test.shape"
      ]
    },
    {
      "cell_type": "markdown",
      "metadata": {
        "id": "p1kpY8b2tXLZ"
      },
      "source": [
        "# Feature engineering\n",
        "\n",
        "Here I manually engineer some features and try some basic models on that transformed data."
      ]
    },
    {
      "cell_type": "code",
      "execution_count": 30,
      "metadata": {
        "id": "g0I0uGlctXLa",
        "colab": {
          "base_uri": "https://localhost:8080/"
        },
        "outputId": "3e17a4e9-6f39-4f0d-fcb3-a52ced1e1ec6"
      },
      "outputs": [
        {
          "output_type": "execute_result",
          "data": {
            "text/plain": [
              "(4061, 51, 4)"
            ]
          },
          "metadata": {},
          "execution_count": 30
        }
      ],
      "source": [
        "df_class_train.shape"
      ]
    },
    {
      "cell_type": "code",
      "execution_count": 31,
      "metadata": {
        "id": "gF1kKXdCtXLb"
      },
      "outputs": [],
      "source": [
        "import scipy\n",
        "################ TRAIN #######################\n",
        "X=np.mean(df_class_train[:,:-1,:],axis=1)\n",
        "Y=np.var(df_class_train[:,:-1,:],axis=1)\n",
        "Z=scipy.stats.skew(df_class_train[:,:-1,:],axis=1)\n",
        "W=scipy.stats.kurtosis(df_class_train[:,:-1,:],axis=1)\n",
        "\n",
        "ds = np.concatenate((X,Y,Z,W,df_class_train[:,-1,0:1]),axis=1)\n",
        "np.random.shuffle(ds)\n",
        "\n",
        "df_feats_train = pd.DataFrame(ds,columns=['meanch1','meanch2','meanch3','meanch4',\\\n",
        "                                    'varch1','varch2','varch3','varch4',\\\n",
        "                                    'skewch1','skewch2','skewch3','skewch4',\\\n",
        "                                    'kurtch1','kurtch2','kurtch3','kurtch4','output'])\n",
        "################ TEST #######################\n",
        "X=np.mean(df_class_test[:,:-1,:],axis=1)\n",
        "Y=np.var(df_class_test[:,:-1,:],axis=1)\n",
        "Z=scipy.stats.skew(df_class_test[:,:-1,:],axis=1)\n",
        "W=scipy.stats.kurtosis(df_class_test[:,:-1,:],axis=1)\n",
        "\n",
        "ds = np.concatenate((X,Y,Z,W,df_class_test[:,-1,0:1]),axis=1)\n",
        "np.random.shuffle(ds)\n",
        "\n",
        "df_feats_test = pd.DataFrame(ds,columns=['meanch1','meanch2','meanch3','meanch4',\\\n",
        "                                    'varch1','varch2','varch3','varch4',\\\n",
        "                                    'skewch1','skewch2','skewch3','skewch4',\\\n",
        "                                    'kurtch1','kurtch2','kurtch3','kurtch4','output'])"
      ]
    },
    {
      "cell_type": "markdown",
      "source": [
        "Question 8. What are the features that were manually engineered? Describe them briefly. (hint: X,Y, Z, W)? In your own words, describe feature engineering."
      ],
      "metadata": {
        "id": "BLN4kvtvl1hJ"
      }
    },
    {
      "cell_type": "code",
      "execution_count": 32,
      "metadata": {
        "id": "cbgfCauDtXLc",
        "colab": {
          "base_uri": "https://localhost:8080/"
        },
        "outputId": "9712fbfc-3659-43c9-9d9d-990dbc3a2e08"
      },
      "outputs": [
        {
          "output_type": "stream",
          "name": "stderr",
          "text": [
            "<ipython-input-32-da260567845c>:34: DataConversionWarning: A column-vector y was passed when a 1d array was expected. Please change the shape of y to (n_samples,), for example using ravel().\n",
            "  rf.fit(X_train,y_train)\n",
            "/usr/local/lib/python3.10/dist-packages/sklearn/utils/validation.py:1143: DataConversionWarning: A column-vector y was passed when a 1d array was expected. Please change the shape of y to (n_samples, ), for example using ravel().\n",
            "  y = column_or_1d(y, warn=True)\n"
          ]
        },
        {
          "output_type": "stream",
          "name": "stdout",
          "text": [
            "[[651 245]\n",
            " [592 575]]\n",
            "[[626 270]\n",
            " [558 609]]\n"
          ]
        }
      ],
      "source": [
        "from sklearn.ensemble import RandomForestClassifier\n",
        "from sklearn.linear_model import LogisticRegression\n",
        "from sklearn.model_selection import train_test_split\n",
        "from sklearn.metrics import confusion_matrix\n",
        "from sklearn.decomposition import PCA\n",
        "\n",
        "rf = RandomForestClassifier()\n",
        "lr = LogisticRegression()\n",
        "pca = PCA()\n",
        "\n",
        "  # get training Data\n",
        "X_train = df_feats_train.loc[:, df_feats_train.columns != 'output']\n",
        "y_train = df_feats_train.loc[:, df_feats_train.columns == 'output']\n",
        "# Remove NaNs while maintaining consistent number of samples of both x and y\n",
        "df_merged = pd.merge(X_train, y_train, left_index=True, right_index=True) # Merge X_train and y_train into a single DataFrame\n",
        "df_merged.dropna(inplace=True) # Delete any rows that contain NaNs\n",
        "# Separate X_train and y_train again\n",
        "X_train = df_merged.loc[:, df_merged.columns != 'output']\n",
        "y_train = df_merged.loc[:, df_merged.columns == 'output']\n",
        "\n",
        "\n",
        "  # get testing data\n",
        "X_test = df_feats_test.loc[:, df_feats_test.columns != 'output']\n",
        "y_test = df_feats_test.loc[:, df_feats_test.columns == 'output']\n",
        "# Remove NaNs while maintaining consistent number of samples of both x and y\n",
        "df_merged = pd.merge(X_test, y_test, left_index=True, right_index=True) # Merge X_train and y_train into a single DataFrame\n",
        "df_merged.dropna(inplace=True) # Delete any rows that contain NaNs\n",
        "# Separate X_train and y_train again\n",
        "X_test = df_merged.loc[:, df_merged.columns != 'output']\n",
        "y_test = df_merged.loc[:, df_merged.columns == 'output']\n",
        "\n",
        "#X_train, X_test, y_train, y_test = train_test_split(X, Y, test_size=0.33, random_state=212) # older method\n",
        "\n",
        "rf.fit(X_train,y_train)\n",
        "lr.fit(X_train,y_train)\n",
        "pca.fit(X_train,y_train)\n",
        "\n",
        "yhat_rf = rf.predict(X_test)\n",
        "yhat_lr = lr.predict(X_test)\n",
        "\n",
        "\n",
        "print(confusion_matrix(y_test,yhat_rf))\n",
        "print(confusion_matrix(y_test,yhat_lr))"
      ]
    },
    {
      "cell_type": "markdown",
      "source": [
        "Question 10. What is Principal Component Analysis (PCA)? What does it tell us about our chosen features?"
      ],
      "metadata": {
        "id": "EWs-vAmjmXHN"
      }
    },
    {
      "cell_type": "code",
      "execution_count": 33,
      "metadata": {
        "id": "32OYrVbrtXLd",
        "colab": {
          "base_uri": "https://localhost:8080/",
          "height": 1000
        },
        "outputId": "09dc88b7-da56-4e2f-f122-7a5abee25bac"
      },
      "outputs": [
        {
          "output_type": "display_data",
          "data": {
            "text/plain": [
              "<Figure size 1000x1500 with 1 Axes>"
            ],
            "image/png": "[encoded data removed]"
          },
          "metadata": {}
        }
      ],
      "source": [
        "plt.figure(figsize=(10,15))\n",
        "y_pos = np.arange(len(X_train.columns))\n",
        "plt.barh(y_pos, rf.feature_importances_)\n",
        "\n",
        "# Create names on the y-axis\n",
        "plt.yticks(y_pos, X_train.columns)\n",
        "plt.show()"
      ]
    },
    {
      "cell_type": "code",
      "execution_count": 34,
      "metadata": {
        "id": "GrmgtYattXLe",
        "colab": {
          "base_uri": "https://localhost:8080/",
          "height": 286
        },
        "outputId": "0b8f73ff-54ce-47be-a7af-44e826c7d14a"
      },
      "outputs": [
        {
          "output_type": "execute_result",
          "data": {
            "text/plain": [
              "<seaborn.axisgrid.PairGrid at 0x7d9b3a495f90>"
            ]
          },
          "metadata": {},
          "execution_count": 34
        },
        {
          "output_type": "display_data",
          "data": {
            "text/plain": [
              "<Figure size 306.986x250 with 2 Axes>"
            ],
            "image/png": "[encoded data removed]"
          },
          "metadata": {}
        }
      ],
      "source": [
        "import seaborn as sns\n",
        "sns.pairplot(pd.concat((X_train[['meanch4']],y_train),axis=1),hue='output')"
      ]
    },
    {
      "cell_type": "code",
      "execution_count": 35,
      "metadata": {
        "id": "gYD_afJwtXLf",
        "colab": {
          "base_uri": "https://localhost:8080/",
          "height": 449
        },
        "outputId": "bdcbe1b7-f96e-4403-96a3-ed17eb913b53"
      },
      "outputs": [
        {
          "output_type": "display_data",
          "data": {
            "text/plain": [
              "<Figure size 640x480 with 1 Axes>"
            ],
            "image/png": "[encoded data removed]"
          },
          "metadata": {}
        }
      ],
      "source": [
        "sns.scatterplot(x='meanch4',y='varch2',hue='output',data=pd.concat((X_train,y_train),axis=1))\n",
        "plt.show()"
      ]
    },
    {
      "cell_type": "markdown",
      "source": [
        "Question 11. Based on the plot above, could the variance of channel2 be a good predictor? Why or why not? Could the mean of ch 4 be a good predictor? Why or why not?"
      ],
      "metadata": {
        "id": "0JrC29SBm7U-"
      }
    },
    {
      "cell_type": "code",
      "execution_count": 36,
      "metadata": {
        "id": "OFDgDMgQtXLf"
      },
      "outputs": [],
      "source": [
        "def focal_loss(gamma=4, alpha=0.15):\n",
        "\n",
        "    gamma = float(gamma)\n",
        "    alpha = float(alpha)\n",
        "\n",
        "    def focal_loss_fixed(y_true, y_pred):\n",
        "        \"\"\"Focal loss for multi-classification\n",
        "        FL(p_t)=-alpha(1-p_t)^{gamma}ln(p_t)\n",
        "        Notice: y_pred is probability after softmax\n",
        "        gradient is d(Fl)/d(p_t) not d(Fl)/d(x) as described in paper\n",
        "        d(Fl)/d(p_t) * [p_t(1-p_t)] = d(Fl)/d(x)\n",
        "        Focal Loss for Dense Object Detection\n",
        "        https://arxiv.org/abs/1708.02002\n",
        "\n",
        "        Arguments:\n",
        "            y_true {tensor} -- ground truth labels, shape of [batch_size, num_cls]\n",
        "            y_pred {tensor} -- model's output, shape of [batch_size, num_cls]\n",
        "\n",
        "        Keyword Arguments:\n",
        "            gamma {float} -- (default: {2.0})\n",
        "            alpha {float} -- (default: {4.0})\n",
        "\n",
        "        Returns:\n",
        "            [tensor] -- loss.\n",
        "        \"\"\"\n",
        "        epsilon = 1.e-9\n",
        "        y_true = tf.convert_to_tensor(y_true, tf.float32)\n",
        "        y_pred = tf.convert_to_tensor(y_pred, tf.float32)\n",
        "\n",
        "        model_out = tf.add(y_pred, epsilon)\n",
        "        ce = tf.multiply(y_true, -tf.math.log(model_out))\n",
        "        weight = tf.multiply(y_true, tf.pow(tf.subtract(1., model_out), gamma))\n",
        "        fl = tf.multiply(alpha, tf.multiply(weight, ce))\n",
        "        reduced_fl = tf.reduce_max(fl, axis=1)\n",
        "        return tf.reduce_mean(reduced_fl)\n",
        "    return focal_loss_fixed\n",
        "\n",
        "# load the dataset, returns train and test X and y elements\n",
        "def load_dataset(dftrain,dftest):\n",
        "    trainX = dftrain[:,:-1,:]\n",
        "    trainy = dftrain[:,-1,0:1]\n",
        "\n",
        "    testX = dftest[:,:-1,:]\n",
        "    testy = dftest[:,-1,0:1]\n",
        "\n",
        "    shuff_idx = np.random.choice(np.arange(0,trainX.shape[0]),trainX.shape[0],replace=False)\n",
        "    trainX = trainX[shuff_idx,:,:]\n",
        "    trainy = trainy[shuff_idx]\n",
        "\n",
        "    shuff_idx = np.random.choice(np.arange(0,testX.shape[0]),testX.shape[0],replace=False)\n",
        "    testX = testX[shuff_idx,:,:]\n",
        "    testy = testy[shuff_idx]\n",
        "\n",
        "    trainy = to_categorical(trainy)\n",
        "    testy = to_categorical(testy)\n",
        "    print(trainX.shape, trainy.shape, testX.shape, testy.shape)\n",
        "    return trainX, trainy, testX, testy\n",
        "\n",
        "# fit and evaluate a model\n",
        "def evaluate_model(trainX, trainy, testX, testy):\n",
        "    verbose, epochs, batch_size = 1, 200, 32\n",
        "    n_timesteps, n_features, n_outputs = trainX.shape[1], trainX.shape[2], trainy.shape[1]\n",
        "    model = Sequential()\n",
        "    model.add(Conv1D(filters=64, kernel_size=3, activation='relu', input_shape=(n_timesteps,n_features)))\n",
        "    model.add(Conv1D(filters=64, kernel_size=3, activation='relu'))\n",
        "    model.add(Dropout(0.5))\n",
        "    model.add(MaxPooling1D(pool_size=2))\n",
        "    model.add(Flatten())\n",
        "    model.add(Dense(100, activation='relu'))\n",
        "    model.add(Dense(n_outputs, activation='softmax'))\n",
        "    model.compile(loss='binary_crossentropy', optimizer='adam', metrics=['accuracy'])\n",
        "    er = EarlyStopping(patience=10, min_delta=1e-4, monitor='val_accuracy')\n",
        "    # fit network\n",
        "    model.fit(trainX, trainy, epochs=epochs, batch_size=batch_size, verbose=verbose,\n",
        "              validation_split=0.15, callbacks=[er])\n",
        "    return model\n",
        "\n",
        "# fit and evaluate a model\n",
        "def evaluate_model2d(trainX, trainy, testX, testy):\n",
        "    verbose, epochs, batch_size = 1, 20, 32\n",
        "    n_timesteps, n_features, n_outputs = trainX.shape[1], trainX.shape[2], trainy.shape[1]\n",
        "    input_layer = Input(shape=(trainX.shape[1], trainX.shape[2], trainX.shape[3]))\n",
        "\n",
        "    # handle image dimensions ordering\n",
        "    if tf.keras.backend.image_data_format() == 'channels_first':\n",
        "        latent = Permute((3, 1, 2))(input_layer)\n",
        "    else:\n",
        "        latent = input_layer\n",
        "\n",
        "    # define the network architecture\n",
        "    latent = Conv2D(filters=32, kernel_size=(3, 3),\n",
        "                        activation='relu')(latent)\n",
        "    latent = Conv2D(filters=64, kernel_size=(3, 3),\n",
        "                        activation='relu')(latent)\n",
        "    latent = Dropout(0.5)(latent)\n",
        "    latent = MaxPooling2D(pool_size=(2, 2))(latent)\n",
        "    latent = Flatten()(latent)\n",
        "    latent = Dense(units=100, activation='relu')(latent)\n",
        "    output_layer = Dense(units=trainy.shape[1], activation='softmax')(latent)\n",
        "\n",
        "    model = Model(inputs=input_layer, outputs=output_layer)\n",
        "\n",
        "    model.compile(loss='binary_crossentropy', optimizer='adam', metrics=['accuracy'])\n",
        "    er = EarlyStopping(patience=10, min_delta=1e-4, monitor='val_accuracy')\n",
        "    # fit network\n",
        "    model.fit(trainX, trainy, epochs=epochs, batch_size=batch_size, verbose=verbose,\n",
        "              validation_split=0.15, callbacks=[er])\n",
        "    return model\n",
        "\n",
        "# summarize scores\n",
        "def summarize_results(scores):\n",
        "    print(scores)\n",
        "    m, s = mean(scores), std(scores)\n",
        "    print('Accuracy: %.3f%% (+/-%.3f)' % (m, s))\n",
        "\n",
        "# run an experiment\n",
        "def run_experiment():\n",
        "    # load data\n",
        "\n",
        "    trainX, trainy, testX, testy = load_dataset(df_class_train,df_class_test)\n",
        "    # repeat experiment\n",
        "    scores = list()\n",
        "\n",
        "    model = evaluate_model(trainX, trainy, testX, testy)\n",
        "\n",
        "    ypred = model.predict(testX)\n",
        "    class_preds = np.argmax(ypred, axis=-1)\n",
        "    testy = np.argmax(testy,axis=-1)\n",
        "\n",
        "    from sklearn.metrics import confusion_matrix\n",
        "    print(confusion_matrix(testy,class_preds))\n",
        "    return model"
      ]
    },
    {
      "cell_type": "code",
      "execution_count": null,
      "metadata": {
        "id": "ZZGuFs6ktXL2",
        "colab": {
          "base_uri": "https://localhost:8080/"
        },
        "outputId": "9580e15f-d09d-4fc0-b54e-5a92d6138e17"
      },
      "outputs": [
        {
          "output_type": "stream",
          "name": "stdout",
          "text": [
            "(4061, 50, 4) (4061, 2) (2064, 50, 4) (2064, 2)\n",
            "Epoch 1/200\n",
            "108/108 [==============================] - 6s 24ms/step - loss: 0.6307 - accuracy: 0.6050 - val_loss: 0.6069 - val_accuracy: 0.6492\n",
            "Epoch 2/200\n",
            "108/108 [==============================] - 2s 21ms/step - loss: 0.5902 - accuracy: 0.6529 - val_loss: 0.5971 - val_accuracy: 0.6574\n",
            "Epoch 3/200\n",
            "108/108 [==============================] - 2s 21ms/step - loss: 0.5686 - accuracy: 0.6728 - val_loss: 0.5891 - val_accuracy: 0.6754\n",
            "Epoch 4/200\n",
            "108/108 [==============================] - 2s 19ms/step - loss: 0.5462 - accuracy: 0.7018 - val_loss: 0.5459 - val_accuracy: 0.7213\n",
            "Epoch 5/200\n",
            "108/108 [==============================] - 3s 27ms/step - loss: 0.5163 - accuracy: 0.7317 - val_loss: 0.5228 - val_accuracy: 0.7574\n",
            "Epoch 6/200\n",
            " 60/108 [===============>..............] - ETA: 1s - loss: 0.4862 - accuracy: 0.7604"
          ]
        }
      ],
      "source": [
        "model = run_experiment()"
      ]
    },
    {
      "cell_type": "markdown",
      "source": [
        "Question 12. Compute the 'accuracy' of this model (true positives + true negatives)/ (total). Is this model (CNN) more accurate than the previous models (LogReg, RF, MLP)? Were the manually engineered features better?"
      ],
      "metadata": {
        "id": "vvtsAw8HnTiz"
      }
    },
    {
      "cell_type": "code",
      "execution_count": null,
      "metadata": {
        "id": "8_7PiK_WtXL4"
      },
      "outputs": [],
      "source": [
        "%matplotlib inline\n",
        "plt.plot(df_class_test[0,:-1,0])\n",
        "plt.plot(df_class_test[0,:-1,1])\n",
        "plt.plot(df_class_test[0,:-1,2])\n",
        "plt.plot(df_class_test[0,:-1,3])"
      ]
    },
    {
      "cell_type": "markdown",
      "source": [
        "Question 13. Read & briefly summarize in your own words significant points of information from the following MATLAB EEGLab tutorials: https://eeglab.org/tutorials/\n",
        "\n",
        "Sections:\n",
        "5. Preprocess data - a. Filtering\n",
        "6. Reject artifacts - all sections a-d.\n",
        "8. Plot data - all sections a-e.\n",
        "\n",
        "***What did you learn from the EEGLab tutorials about EEG, Filtering, and Artifacts that you did not yet know?***\n",
        "\n",
        "(Suggested/Optional) Download & use the MATLAB EEGLab on the dataset used in this notebook to try EEGLab yourself and get a better understanding of the tutorials."
      ],
      "metadata": {
        "id": "7uRWBFi-00I6"
      }
    }
  ],
  "metadata": {
    "colab": {
      "provenance": [],
      "include_colab_link": true
    },
    "kernelspec": {
      "display_name": "Python 3",
      "language": "python",
      "name": "python3"
    },
    "language_info": {
      "codemirror_mode": {
        "name": "ipython",
        "version": 3
      },
      "file_extension": ".py",
      "mimetype": "text/x-python",
      "name": "python",
      "nbconvert_exporter": "python",
      "pygments_lexer": "ipython3",
      "version": "3.6.4"
    },
    "widgets": {
      "application/vnd.jupyter.widget-state+json": {
        "82445ebbcbee4625873d1172939c57d8": {
          "model_module": "@jupyter-widgets/controls",
          "model_name": "HBoxModel",
          "model_module_version": "1.5.0",
          "state": {
            "_dom_classes": [],
            "_model_module": "@jupyter-widgets/controls",
            "_model_module_version": "1.5.0",
            "_model_name": "HBoxModel",
            "_view_count": null,
            "_view_module": "@jupyter-widgets/controls",
            "_view_module_version": "1.5.0",
            "_view_name": "HBoxView",
            "box_style": "",
            "children": [
              "IPY_MODEL_9e97714ed7894b0292b1466bb0f4e9ce",
              "IPY_MODEL_1da27fa687ed469f8c53aa80a04b6f26",
              "IPY_MODEL_5c53b0f514c04836b561cb8228e6a5bb"
            ],
            "layout": "IPY_MODEL_327ec50d70174fcb8edf83d0d3a91b29"
          }
        },
        "9e97714ed7894b0292b1466bb0f4e9ce": {
          "model_module": "@jupyter-widgets/controls",
          "model_name": "HTMLModel",
          "model_module_version": "1.5.0",
          "state": {
            "_dom_classes": [],
            "_model_module": "@jupyter-widgets/controls",
            "_model_module_version": "1.5.0",
            "_model_name": "HTMLModel",
            "_view_count": null,
            "_view_module": "@jupyter-widgets/controls",
            "_view_module_version": "1.5.0",
            "_view_name": "HTMLView",
            "description": "",
            "description_tooltip": null,
            "layout": "IPY_MODEL_99c4ef00ccd84a4881cd20b65e1ecd9e",
            "placeholder": "​",
            "style": "IPY_MODEL_1a621643d8ef4f97bd23e9baa43953b7",
            "value": "100%"
          }
        },
        "1da27fa687ed469f8c53aa80a04b6f26": {
          "model_module": "@jupyter-widgets/controls",
          "model_name": "FloatProgressModel",
          "model_module_version": "1.5.0",
          "state": {
            "_dom_classes": [],
            "_model_module": "@jupyter-widgets/controls",
            "_model_module_version": "1.5.0",
            "_model_name": "FloatProgressModel",
            "_view_count": null,
            "_view_module": "@jupyter-widgets/controls",
            "_view_module_version": "1.5.0",
            "_view_name": "ProgressView",
            "bar_style": "success",
            "description": "",
            "description_tooltip": null,
            "layout": "IPY_MODEL_91564451263c435e966995182e395a03",
            "max": 4197,
            "min": 0,
            "orientation": "horizontal",
            "style": "IPY_MODEL_ead03c050eb142dcb474e77fb15fbd09",
            "value": 4197
          }
        },
        "5c53b0f514c04836b561cb8228e6a5bb": {
          "model_module": "@jupyter-widgets/controls",
          "model_name": "HTMLModel",
          "model_module_version": "1.5.0",
          "state": {
            "_dom_classes": [],
            "_model_module": "@jupyter-widgets/controls",
            "_model_module_version": "1.5.0",
            "_model_name": "HTMLModel",
            "_view_count": null,
            "_view_module": "@jupyter-widgets/controls",
            "_view_module_version": "1.5.0",
            "_view_name": "HTMLView",
            "description": "",
            "description_tooltip": null,
            "layout": "IPY_MODEL_c6d7b1f9b1f24082afe3d62d8a7db17b",
            "placeholder": "​",
            "style": "IPY_MODEL_50a27e58b01e4505a19c1605da1666d8",
            "value": " 4197/4197 [00:04&lt;00:00, 726.05it/s]"
          }
        },
        "327ec50d70174fcb8edf83d0d3a91b29": {
          "model_module": "@jupyter-widgets/base",
          "model_name": "LayoutModel",
          "model_module_version": "1.2.0",
          "state": {
            "_model_module": "@jupyter-widgets/base",
            "_model_module_version": "1.2.0",
            "_model_name": "LayoutModel",
            "_view_count": null,
            "_view_module": "@jupyter-widgets/base",
            "_view_module_version": "1.2.0",
            "_view_name": "LayoutView",
            "align_content": null,
            "align_items": null,
            "align_self": null,
            "border": null,
            "bottom": null,
            "display": null,
            "flex": null,
            "flex_flow": null,
            "grid_area": null,
            "grid_auto_columns": null,
            "grid_auto_flow": null,
            "grid_auto_rows": null,
            "grid_column": null,
            "grid_gap": null,
            "grid_row": null,
            "grid_template_areas": null,
            "grid_template_columns": null,
            "grid_template_rows": null,
            "height": null,
            "justify_content": null,
            "justify_items": null,
            "left": null,
            "margin": null,
            "max_height": null,
            "max_width": null,
            "min_height": null,
            "min_width": null,
            "object_fit": null,
            "object_position": null,
            "order": null,
            "overflow": null,
            "overflow_x": null,
            "overflow_y": null,
            "padding": null,
            "right": null,
            "top": null,
            "visibility": null,
            "width": null
          }
        },
        "99c4ef00ccd84a4881cd20b65e1ecd9e": {
          "model_module": "@jupyter-widgets/base",
          "model_name": "LayoutModel",
          "model_module_version": "1.2.0",
          "state": {
            "_model_module": "@jupyter-widgets/base",
            "_model_module_version": "1.2.0",
            "_model_name": "LayoutModel",
            "_view_count": null,
            "_view_module": "@jupyter-widgets/base",
            "_view_module_version": "1.2.0",
            "_view_name": "LayoutView",
            "align_content": null,
            "align_items": null,
            "align_self": null,
            "border": null,
            "bottom": null,
            "display": null,
            "flex": null,
            "flex_flow": null,
            "grid_area": null,
            "grid_auto_columns": null,
            "grid_auto_flow": null,
            "grid_auto_rows": null,
            "grid_column": null,
            "grid_gap": null,
            "grid_row": null,
            "grid_template_areas": null,
            "grid_template_columns": null,
            "grid_template_rows": null,
            "height": null,
            "justify_content": null,
            "justify_items": null,
            "left": null,
            "margin": null,
            "max_height": null,
            "max_width": null,
            "min_height": null,
            "min_width": null,
            "object_fit": null,
            "object_position": null,
            "order": null,
            "overflow": null,
            "overflow_x": null,
            "overflow_y": null,
            "padding": null,
            "right": null,
            "top": null,
            "visibility": null,
            "width": null
          }
        },
        "1a621643d8ef4f97bd23e9baa43953b7": {
          "model_module": "@jupyter-widgets/controls",
          "model_name": "DescriptionStyleModel",
          "model_module_version": "1.5.0",
          "state": {
            "_model_module": "@jupyter-widgets/controls",
            "_model_module_version": "1.5.0",
            "_model_name": "DescriptionStyleModel",
            "_view_count": null,
            "_view_module": "@jupyter-widgets/base",
            "_view_module_version": "1.2.0",
            "_view_name": "StyleView",
            "description_width": ""
          }
        },
        "91564451263c435e966995182e395a03": {
          "model_module": "@jupyter-widgets/base",
          "model_name": "LayoutModel",
          "model_module_version": "1.2.0",
          "state": {
            "_model_module": "@jupyter-widgets/base",
            "_model_module_version": "1.2.0",
            "_model_name": "LayoutModel",
            "_view_count": null,
            "_view_module": "@jupyter-widgets/base",
            "_view_module_version": "1.2.0",
            "_view_name": "LayoutView",
            "align_content": null,
            "align_items": null,
            "align_self": null,
            "border": null,
            "bottom": null,
            "display": null,
            "flex": null,
            "flex_flow": null,
            "grid_area": null,
            "grid_auto_columns": null,
            "grid_auto_flow": null,
            "grid_auto_rows": null,
            "grid_column": null,
            "grid_gap": null,
            "grid_row": null,
            "grid_template_areas": null,
            "grid_template_columns": null,
            "grid_template_rows": null,
            "height": null,
            "justify_content": null,
            "justify_items": null,
            "left": null,
            "margin": null,
            "max_height": null,
            "max_width": null,
            "min_height": null,
            "min_width": null,
            "object_fit": null,
            "object_position": null,
            "order": null,
            "overflow": null,
            "overflow_x": null,
            "overflow_y": null,
            "padding": null,
            "right": null,
            "top": null,
            "visibility": null,
            "width": null
          }
        },
        "ead03c050eb142dcb474e77fb15fbd09": {
          "model_module": "@jupyter-widgets/controls",
          "model_name": "ProgressStyleModel",
          "model_module_version": "1.5.0",
          "state": {
            "_model_module": "@jupyter-widgets/controls",
            "_model_module_version": "1.5.0",
            "_model_name": "ProgressStyleModel",
            "_view_count": null,
            "_view_module": "@jupyter-widgets/base",
            "_view_module_version": "1.2.0",
            "_view_name": "StyleView",
            "bar_color": null,
            "description_width": ""
          }
        },
        "c6d7b1f9b1f24082afe3d62d8a7db17b": {
          "model_module": "@jupyter-widgets/base",
          "model_name": "LayoutModel",
          "model_module_version": "1.2.0",
          "state": {
            "_model_module": "@jupyter-widgets/base",
            "_model_module_version": "1.2.0",
            "_model_name": "LayoutModel",
            "_view_count": null,
            "_view_module": "@jupyter-widgets/base",
            "_view_module_version": "1.2.0",
            "_view_name": "LayoutView",
            "align_content": null,
            "align_items": null,
            "align_self": null,
            "border": null,
            "bottom": null,
            "display": null,
            "flex": null,
            "flex_flow": null,
            "grid_area": null,
            "grid_auto_columns": null,
            "grid_auto_flow": null,
            "grid_auto_rows": null,
            "grid_column": null,
            "grid_gap": null,
            "grid_row": null,
            "grid_template_areas": null,
            "grid_template_columns": null,
            "grid_template_rows": null,
            "height": null,
            "justify_content": null,
            "justify_items": null,
            "left": null,
            "margin": null,
            "max_height": null,
            "max_width": null,
            "min_height": null,
            "min_width": null,
            "object_fit": null,
            "object_position": null,
            "order": null,
            "overflow": null,
            "overflow_x": null,
            "overflow_y": null,
            "padding": null,
            "right": null,
            "top": null,
            "visibility": null,
            "width": null
          }
        },
        "50a27e58b01e4505a19c1605da1666d8": {
          "model_module": "@jupyter-widgets/controls",
          "model_name": "DescriptionStyleModel",
          "model_module_version": "1.5.0",
          "state": {
            "_model_module": "@jupyter-widgets/controls",
            "_model_module_version": "1.5.0",
            "_model_name": "DescriptionStyleModel",
            "_view_count": null,
            "_view_module": "@jupyter-widgets/base",
            "_view_module_version": "1.2.0",
            "_view_name": "StyleView",
            "description_width": ""
          }
        },
        "1456636267374dd2ba94b64790e58e85": {
          "model_module": "@jupyter-widgets/controls",
          "model_name": "HBoxModel",
          "model_module_version": "1.5.0",
          "state": {
            "_dom_classes": [],
            "_model_module": "@jupyter-widgets/controls",
            "_model_module_version": "1.5.0",
            "_model_name": "HBoxModel",
            "_view_count": null,
            "_view_module": "@jupyter-widgets/controls",
            "_view_module_version": "1.5.0",
            "_view_name": "HBoxView",
            "box_style": "",
            "children": [
              "IPY_MODEL_5937bcdd751a476f825d71563de5f5a2",
              "IPY_MODEL_369eeebfac9948e68a368db17475d0d6",
              "IPY_MODEL_2479fba498b440d0a5b1d4be729e29bb"
            ],
            "layout": "IPY_MODEL_9565c5743c4142f98abbe127ec2082f5"
          }
        },
        "5937bcdd751a476f825d71563de5f5a2": {
          "model_module": "@jupyter-widgets/controls",
          "model_name": "HTMLModel",
          "model_module_version": "1.5.0",
          "state": {
            "_dom_classes": [],
            "_model_module": "@jupyter-widgets/controls",
            "_model_module_version": "1.5.0",
            "_model_name": "HTMLModel",
            "_view_count": null,
            "_view_module": "@jupyter-widgets/controls",
            "_view_module_version": "1.5.0",
            "_view_name": "HTMLView",
            "description": "",
            "description_tooltip": null,
            "layout": "IPY_MODEL_6fe91205600540f289cc758128914630",
            "placeholder": "​",
            "style": "IPY_MODEL_8df853479d9842ef878b28878e4af934",
            "value": "100%"
          }
        },
        "369eeebfac9948e68a368db17475d0d6": {
          "model_module": "@jupyter-widgets/controls",
          "model_name": "FloatProgressModel",
          "model_module_version": "1.5.0",
          "state": {
            "_dom_classes": [],
            "_model_module": "@jupyter-widgets/controls",
            "_model_module_version": "1.5.0",
            "_model_name": "FloatProgressModel",
            "_view_count": null,
            "_view_module": "@jupyter-widgets/controls",
            "_view_module_version": "1.5.0",
            "_view_name": "ProgressView",
            "bar_style": "success",
            "description": "",
            "description_tooltip": null,
            "layout": "IPY_MODEL_ee3b3c5992094f76aacfd104154b52a6",
            "max": 2109,
            "min": 0,
            "orientation": "horizontal",
            "style": "IPY_MODEL_c3095e1d9e674017945dc84f5337ffdd",
            "value": 2109
          }
        },
        "2479fba498b440d0a5b1d4be729e29bb": {
          "model_module": "@jupyter-widgets/controls",
          "model_name": "HTMLModel",
          "model_module_version": "1.5.0",
          "state": {
            "_dom_classes": [],
            "_model_module": "@jupyter-widgets/controls",
            "_model_module_version": "1.5.0",
            "_model_name": "HTMLModel",
            "_view_count": null,
            "_view_module": "@jupyter-widgets/controls",
            "_view_module_version": "1.5.0",
            "_view_name": "HTMLView",
            "description": "",
            "description_tooltip": null,
            "layout": "IPY_MODEL_0c0aaef1e06f4c7caffb0cd09f7fa0ca",
            "placeholder": "​",
            "style": "IPY_MODEL_4e5b7b0a76104b398a0b5365eb99efee",
            "value": " 2109/2109 [00:06&lt;00:00, 633.12it/s]"
          }
        },
        "9565c5743c4142f98abbe127ec2082f5": {
          "model_module": "@jupyter-widgets/base",
          "model_name": "LayoutModel",
          "model_module_version": "1.2.0",
          "state": {
            "_model_module": "@jupyter-widgets/base",
            "_model_module_version": "1.2.0",
            "_model_name": "LayoutModel",
            "_view_count": null,
            "_view_module": "@jupyter-widgets/base",
            "_view_module_version": "1.2.0",
            "_view_name": "LayoutView",
            "align_content": null,
            "align_items": null,
            "align_self": null,
            "border": null,
            "bottom": null,
            "display": null,
            "flex": null,
            "flex_flow": null,
            "grid_area": null,
            "grid_auto_columns": null,
            "grid_auto_flow": null,
            "grid_auto_rows": null,
            "grid_column": null,
            "grid_gap": null,
            "grid_row": null,
            "grid_template_areas": null,
            "grid_template_columns": null,
            "grid_template_rows": null,
            "height": null,
            "justify_content": null,
            "justify_items": null,
            "left": null,
            "margin": null,
            "max_height": null,
            "max_width": null,
            "min_height": null,
            "min_width": null,
            "object_fit": null,
            "object_position": null,
            "order": null,
            "overflow": null,
            "overflow_x": null,
            "overflow_y": null,
            "padding": null,
            "right": null,
            "top": null,
            "visibility": null,
            "width": null
          }
        },
        "6fe91205600540f289cc758128914630": {
          "model_module": "@jupyter-widgets/base",
          "model_name": "LayoutModel",
          "model_module_version": "1.2.0",
          "state": {
            "_model_module": "@jupyter-widgets/base",
            "_model_module_version": "1.2.0",
            "_model_name": "LayoutModel",
            "_view_count": null,
            "_view_module": "@jupyter-widgets/base",
            "_view_module_version": "1.2.0",
            "_view_name": "LayoutView",
            "align_content": null,
            "align_items": null,
            "align_self": null,
            "border": null,
            "bottom": null,
            "display": null,
            "flex": null,
            "flex_flow": null,
            "grid_area": null,
            "grid_auto_columns": null,
            "grid_auto_flow": null,
            "grid_auto_rows": null,
            "grid_column": null,
            "grid_gap": null,
            "grid_row": null,
            "grid_template_areas": null,
            "grid_template_columns": null,
            "grid_template_rows": null,
            "height": null,
            "justify_content": null,
            "justify_items": null,
            "left": null,
            "margin": null,
            "max_height": null,
            "max_width": null,
            "min_height": null,
            "min_width": null,
            "object_fit": null,
            "object_position": null,
            "order": null,
            "overflow": null,
            "overflow_x": null,
            "overflow_y": null,
            "padding": null,
            "right": null,
            "top": null,
            "visibility": null,
            "width": null
          }
        },
        "8df853479d9842ef878b28878e4af934": {
          "model_module": "@jupyter-widgets/controls",
          "model_name": "DescriptionStyleModel",
          "model_module_version": "1.5.0",
          "state": {
            "_model_module": "@jupyter-widgets/controls",
            "_model_module_version": "1.5.0",
            "_model_name": "DescriptionStyleModel",
            "_view_count": null,
            "_view_module": "@jupyter-widgets/base",
            "_view_module_version": "1.2.0",
            "_view_name": "StyleView",
            "description_width": ""
          }
        },
        "ee3b3c5992094f76aacfd104154b52a6": {
          "model_module": "@jupyter-widgets/base",
          "model_name": "LayoutModel",
          "model_module_version": "1.2.0",
          "state": {
            "_model_module": "@jupyter-widgets/base",
            "_model_module_version": "1.2.0",
            "_model_name": "LayoutModel",
            "_view_count": null,
            "_view_module": "@jupyter-widgets/base",
            "_view_module_version": "1.2.0",
            "_view_name": "LayoutView",
            "align_content": null,
            "align_items": null,
            "align_self": null,
            "border": null,
            "bottom": null,
            "display": null,
            "flex": null,
            "flex_flow": null,
            "grid_area": null,
            "grid_auto_columns": null,
            "grid_auto_flow": null,
            "grid_auto_rows": null,
            "grid_column": null,
            "grid_gap": null,
            "grid_row": null,
            "grid_template_areas": null,
            "grid_template_columns": null,
            "grid_template_rows": null,
            "height": null,
            "justify_content": null,
            "justify_items": null,
            "left": null,
            "margin": null,
            "max_height": null,
            "max_width": null,
            "min_height": null,
            "min_width": null,
            "object_fit": null,
            "object_position": null,
            "order": null,
            "overflow": null,
            "overflow_x": null,
            "overflow_y": null,
            "padding": null,
            "right": null,
            "top": null,
            "visibility": null,
            "width": null
          }
        },
        "c3095e1d9e674017945dc84f5337ffdd": {
          "model_module": "@jupyter-widgets/controls",
          "model_name": "ProgressStyleModel",
          "model_module_version": "1.5.0",
          "state": {
            "_model_module": "@jupyter-widgets/controls",
            "_model_module_version": "1.5.0",
            "_model_name": "ProgressStyleModel",
            "_view_count": null,
            "_view_module": "@jupyter-widgets/base",
            "_view_module_version": "1.2.0",
            "_view_name": "StyleView",
            "bar_color": null,
            "description_width": ""
          }
        },
        "0c0aaef1e06f4c7caffb0cd09f7fa0ca": {
          "model_module": "@jupyter-widgets/base",
          "model_name": "LayoutModel",
          "model_module_version": "1.2.0",
          "state": {
            "_model_module": "@jupyter-widgets/base",
            "_model_module_version": "1.2.0",
            "_model_name": "LayoutModel",
            "_view_count": null,
            "_view_module": "@jupyter-widgets/base",
            "_view_module_version": "1.2.0",
            "_view_name": "LayoutView",
            "align_content": null,
            "align_items": null,
            "align_self": null,
            "border": null,
            "bottom": null,
            "display": null,
            "flex": null,
            "flex_flow": null,
            "grid_area": null,
            "grid_auto_columns": null,
            "grid_auto_flow": null,
            "grid_auto_rows": null,
            "grid_column": null,
            "grid_gap": null,
            "grid_row": null,
            "grid_template_areas": null,
            "grid_template_columns": null,
            "grid_template_rows": null,
            "height": null,
            "justify_content": null,
            "justify_items": null,
            "left": null,
            "margin": null,
            "max_height": null,
            "max_width": null,
            "min_height": null,
            "min_width": null,
            "object_fit": null,
            "object_position": null,
            "order": null,
            "overflow": null,
            "overflow_x": null,
            "overflow_y": null,
            "padding": null,
            "right": null,
            "top": null,
            "visibility": null,
            "width": null
          }
        },
        "4e5b7b0a76104b398a0b5365eb99efee": {
          "model_module": "@jupyter-widgets/controls",
          "model_name": "DescriptionStyleModel",
          "model_module_version": "1.5.0",
          "state": {
            "_model_module": "@jupyter-widgets/controls",
            "_model_module_version": "1.5.0",
            "_model_name": "DescriptionStyleModel",
            "_view_count": null,
            "_view_module": "@jupyter-widgets/base",
            "_view_module_version": "1.2.0",
            "_view_name": "StyleView",
            "description_width": ""
          }
        }
      }
    }
  },
  "nbformat": 4,
  "nbformat_minor": 0
}